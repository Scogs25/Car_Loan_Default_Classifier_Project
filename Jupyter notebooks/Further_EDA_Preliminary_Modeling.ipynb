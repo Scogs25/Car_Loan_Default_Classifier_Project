{
 "cells": [
  {
   "cell_type": "markdown",
   "metadata": {},
   "source": [
    "# Further Data Anaylsis and Preliminary Modeling "
   ]
  },
  {
   "cell_type": "markdown",
   "metadata": {},
   "source": [
    "## The goals of this notebook are the following:\n",
    "- conduct a statistical test to gain more insight into data, possibly will feature engineer based on result.\n",
    "- solve class imbalance issue with target variable.\n",
    "- begin creating simple models to test baseline performance and find additional insights.\n",
    "- Use GridSearch to optimize hyperparamaeters.\n",
    "- Compare models based on metrics such as F1 score and Recall score to select a final model"
   ]
  },
  {
   "cell_type": "code",
   "execution_count": 1,
   "metadata": {},
   "outputs": [],
   "source": [
    "import seaborn as sns \n",
    "import scipy.stats as scs\n",
    "import numpy as np\n",
    "import pandas as pd\n",
    "import matplotlib.pyplot as plt #importing necessary libraries\n",
    "from sklearn.preprocessing import StandardScaler\n",
    "from sklearn.preprocessing import MinMaxScaler\n",
    "from sklearn.linear_model import LogisticRegression\n",
    "from sklearn.model_selection import train_test_split\n",
    "from sklearn.neighbors import KNeighborsClassifier\n",
    "from sklearn.tree import DecisionTreeClassifier\n",
    "from sklearn.ensemble import RandomForestClassifier\n",
    "from sklearn import metrics\n",
    "from sklearn.ensemble import BaggingClassifier\n",
    "from sklearn.ensemble import VotingClassifier\n",
    "from sklearn.model_selection import GridSearchCV\n",
    "from sklearn.utils import resample"
   ]
  },
  {
   "cell_type": "code",
   "execution_count": 2,
   "metadata": {},
   "outputs": [],
   "source": [
    "df=pd.read_csv('Cleaned_Loan_Dataset.csv',index_col=0)"
   ]
  },
  {
   "cell_type": "code",
   "execution_count": 3,
   "metadata": {},
   "outputs": [
    {
     "data": {
      "text/html": [
       "<div>\n",
       "<style scoped>\n",
       "    .dataframe tbody tr th:only-of-type {\n",
       "        vertical-align: middle;\n",
       "    }\n",
       "\n",
       "    .dataframe tbody tr th {\n",
       "        vertical-align: top;\n",
       "    }\n",
       "\n",
       "    .dataframe thead th {\n",
       "        text-align: right;\n",
       "    }\n",
       "</style>\n",
       "<table border=\"1\" class=\"dataframe\">\n",
       "  <thead>\n",
       "    <tr style=\"text-align: right;\">\n",
       "      <th></th>\n",
       "      <th>UniqueID</th>\n",
       "      <th>disbursed_amount</th>\n",
       "      <th>asset_cost</th>\n",
       "      <th>ltv</th>\n",
       "      <th>branch_id</th>\n",
       "      <th>supplier_id</th>\n",
       "      <th>manufacturer_id</th>\n",
       "      <th>Current_pincode_ID</th>\n",
       "      <th>Employment.Type</th>\n",
       "      <th>State_ID</th>\n",
       "      <th>...</th>\n",
       "      <th>Age_at_disbursal</th>\n",
       "      <th>Salaried_High_CNS</th>\n",
       "      <th>High_risk_High_loan</th>\n",
       "      <th>Total_Accounts</th>\n",
       "      <th>Too_many_accounts</th>\n",
       "      <th>ltv_risk</th>\n",
       "      <th>Total_Overdue_Accts</th>\n",
       "      <th>Voter_ID_Overdue_accts</th>\n",
       "      <th>Age_Deliquent</th>\n",
       "      <th>High_Overdue_Inquires</th>\n",
       "    </tr>\n",
       "  </thead>\n",
       "  <tbody>\n",
       "    <tr>\n",
       "      <th>UniqueID</th>\n",
       "      <td>1.000000</td>\n",
       "      <td>0.146522</td>\n",
       "      <td>0.147428</td>\n",
       "      <td>-0.032781</td>\n",
       "      <td>-0.002939</td>\n",
       "      <td>0.024429</td>\n",
       "      <td>-0.021426</td>\n",
       "      <td>0.030587</td>\n",
       "      <td>-0.029204</td>\n",
       "      <td>-0.056656</td>\n",
       "      <td>...</td>\n",
       "      <td>0.021351</td>\n",
       "      <td>-0.010486</td>\n",
       "      <td>0.025461</td>\n",
       "      <td>-0.016450</td>\n",
       "      <td>-0.008645</td>\n",
       "      <td>-0.028696</td>\n",
       "      <td>-0.011895</td>\n",
       "      <td>-0.002875</td>\n",
       "      <td>-0.007150</td>\n",
       "      <td>0.007722</td>\n",
       "    </tr>\n",
       "    <tr>\n",
       "      <th>disbursed_amount</th>\n",
       "      <td>0.146522</td>\n",
       "      <td>1.000000</td>\n",
       "      <td>0.748162</td>\n",
       "      <td>0.379001</td>\n",
       "      <td>0.016800</td>\n",
       "      <td>0.079607</td>\n",
       "      <td>0.100622</td>\n",
       "      <td>0.069067</td>\n",
       "      <td>0.017901</td>\n",
       "      <td>-0.024509</td>\n",
       "      <td>...</td>\n",
       "      <td>-0.055719</td>\n",
       "      <td>0.012563</td>\n",
       "      <td>0.142484</td>\n",
       "      <td>0.033880</td>\n",
       "      <td>0.028339</td>\n",
       "      <td>0.202989</td>\n",
       "      <td>0.018813</td>\n",
       "      <td>0.004072</td>\n",
       "      <td>0.018549</td>\n",
       "      <td>0.017189</td>\n",
       "    </tr>\n",
       "    <tr>\n",
       "      <th>asset_cost</th>\n",
       "      <td>0.147428</td>\n",
       "      <td>0.748162</td>\n",
       "      <td>1.000000</td>\n",
       "      <td>-0.305327</td>\n",
       "      <td>0.018184</td>\n",
       "      <td>0.153044</td>\n",
       "      <td>-0.000393</td>\n",
       "      <td>0.280159</td>\n",
       "      <td>-0.066654</td>\n",
       "      <td>-0.025451</td>\n",
       "      <td>...</td>\n",
       "      <td>-0.116350</td>\n",
       "      <td>-0.037214</td>\n",
       "      <td>0.112079</td>\n",
       "      <td>-0.029004</td>\n",
       "      <td>-0.029700</td>\n",
       "      <td>-0.227683</td>\n",
       "      <td>-0.012960</td>\n",
       "      <td>0.011382</td>\n",
       "      <td>-0.009384</td>\n",
       "      <td>-0.006841</td>\n",
       "    </tr>\n",
       "    <tr>\n",
       "      <th>ltv</th>\n",
       "      <td>-0.032781</td>\n",
       "      <td>0.379001</td>\n",
       "      <td>-0.305327</td>\n",
       "      <td>1.000000</td>\n",
       "      <td>0.004870</td>\n",
       "      <td>-0.105760</td>\n",
       "      <td>0.120559</td>\n",
       "      <td>-0.301935</td>\n",
       "      <td>0.115946</td>\n",
       "      <td>0.003909</td>\n",
       "      <td>...</td>\n",
       "      <td>0.081687</td>\n",
       "      <td>0.068754</td>\n",
       "      <td>0.039703</td>\n",
       "      <td>0.088414</td>\n",
       "      <td>0.083037</td>\n",
       "      <td>0.666992</td>\n",
       "      <td>0.047955</td>\n",
       "      <td>-0.007408</td>\n",
       "      <td>0.041183</td>\n",
       "      <td>0.036727</td>\n",
       "    </tr>\n",
       "    <tr>\n",
       "      <th>branch_id</th>\n",
       "      <td>-0.002939</td>\n",
       "      <td>0.016800</td>\n",
       "      <td>0.018184</td>\n",
       "      <td>0.004870</td>\n",
       "      <td>1.000000</td>\n",
       "      <td>0.231202</td>\n",
       "      <td>-0.050231</td>\n",
       "      <td>0.052089</td>\n",
       "      <td>0.018231</td>\n",
       "      <td>0.192658</td>\n",
       "      <td>...</td>\n",
       "      <td>-0.003525</td>\n",
       "      <td>-0.007137</td>\n",
       "      <td>0.001749</td>\n",
       "      <td>-0.010600</td>\n",
       "      <td>-0.011384</td>\n",
       "      <td>-0.006508</td>\n",
       "      <td>-0.007325</td>\n",
       "      <td>-0.010579</td>\n",
       "      <td>-0.000099</td>\n",
       "      <td>-0.005359</td>\n",
       "    </tr>\n",
       "    <tr>\n",
       "      <th>...</th>\n",
       "      <td>...</td>\n",
       "      <td>...</td>\n",
       "      <td>...</td>\n",
       "      <td>...</td>\n",
       "      <td>...</td>\n",
       "      <td>...</td>\n",
       "      <td>...</td>\n",
       "      <td>...</td>\n",
       "      <td>...</td>\n",
       "      <td>...</td>\n",
       "      <td>...</td>\n",
       "      <td>...</td>\n",
       "      <td>...</td>\n",
       "      <td>...</td>\n",
       "      <td>...</td>\n",
       "      <td>...</td>\n",
       "      <td>...</td>\n",
       "      <td>...</td>\n",
       "      <td>...</td>\n",
       "      <td>...</td>\n",
       "      <td>...</td>\n",
       "    </tr>\n",
       "    <tr>\n",
       "      <th>ltv_risk</th>\n",
       "      <td>-0.028696</td>\n",
       "      <td>0.202989</td>\n",
       "      <td>-0.227683</td>\n",
       "      <td>0.666992</td>\n",
       "      <td>-0.006508</td>\n",
       "      <td>-0.113443</td>\n",
       "      <td>0.127632</td>\n",
       "      <td>-0.248325</td>\n",
       "      <td>0.094904</td>\n",
       "      <td>-0.009319</td>\n",
       "      <td>...</td>\n",
       "      <td>0.100154</td>\n",
       "      <td>0.048888</td>\n",
       "      <td>0.052619</td>\n",
       "      <td>0.108700</td>\n",
       "      <td>0.079678</td>\n",
       "      <td>1.000000</td>\n",
       "      <td>0.154105</td>\n",
       "      <td>0.040246</td>\n",
       "      <td>0.068660</td>\n",
       "      <td>0.055052</td>\n",
       "    </tr>\n",
       "    <tr>\n",
       "      <th>Total_Overdue_Accts</th>\n",
       "      <td>-0.011895</td>\n",
       "      <td>0.018813</td>\n",
       "      <td>-0.012960</td>\n",
       "      <td>0.047955</td>\n",
       "      <td>-0.007325</td>\n",
       "      <td>-0.043098</td>\n",
       "      <td>0.026829</td>\n",
       "      <td>-0.067199</td>\n",
       "      <td>-0.024387</td>\n",
       "      <td>-0.010531</td>\n",
       "      <td>...</td>\n",
       "      <td>0.141639</td>\n",
       "      <td>-0.065638</td>\n",
       "      <td>0.281134</td>\n",
       "      <td>0.350441</td>\n",
       "      <td>0.166884</td>\n",
       "      <td>0.154105</td>\n",
       "      <td>1.000000</td>\n",
       "      <td>0.253805</td>\n",
       "      <td>0.488125</td>\n",
       "      <td>0.216444</td>\n",
       "    </tr>\n",
       "    <tr>\n",
       "      <th>Voter_ID_Overdue_accts</th>\n",
       "      <td>-0.002875</td>\n",
       "      <td>0.004072</td>\n",
       "      <td>0.011382</td>\n",
       "      <td>-0.007408</td>\n",
       "      <td>-0.010579</td>\n",
       "      <td>-0.003108</td>\n",
       "      <td>-0.001363</td>\n",
       "      <td>0.041332</td>\n",
       "      <td>-0.027427</td>\n",
       "      <td>0.032389</td>\n",
       "      <td>...</td>\n",
       "      <td>0.042835</td>\n",
       "      <td>-0.033676</td>\n",
       "      <td>0.094890</td>\n",
       "      <td>0.075251</td>\n",
       "      <td>0.031305</td>\n",
       "      <td>0.040246</td>\n",
       "      <td>0.253805</td>\n",
       "      <td>1.000000</td>\n",
       "      <td>0.122955</td>\n",
       "      <td>0.068204</td>\n",
       "    </tr>\n",
       "    <tr>\n",
       "      <th>Age_Deliquent</th>\n",
       "      <td>-0.007150</td>\n",
       "      <td>0.018549</td>\n",
       "      <td>-0.009384</td>\n",
       "      <td>0.041183</td>\n",
       "      <td>-0.000099</td>\n",
       "      <td>-0.023706</td>\n",
       "      <td>0.019290</td>\n",
       "      <td>-0.055396</td>\n",
       "      <td>-0.013984</td>\n",
       "      <td>-0.003099</td>\n",
       "      <td>...</td>\n",
       "      <td>0.123351</td>\n",
       "      <td>-0.000985</td>\n",
       "      <td>0.362347</td>\n",
       "      <td>0.324303</td>\n",
       "      <td>0.213918</td>\n",
       "      <td>0.068660</td>\n",
       "      <td>0.488125</td>\n",
       "      <td>0.122955</td>\n",
       "      <td>1.000000</td>\n",
       "      <td>0.134854</td>\n",
       "    </tr>\n",
       "    <tr>\n",
       "      <th>High_Overdue_Inquires</th>\n",
       "      <td>0.007722</td>\n",
       "      <td>0.017189</td>\n",
       "      <td>-0.006841</td>\n",
       "      <td>0.036727</td>\n",
       "      <td>-0.005359</td>\n",
       "      <td>-0.020096</td>\n",
       "      <td>0.009371</td>\n",
       "      <td>-0.029484</td>\n",
       "      <td>-0.004518</td>\n",
       "      <td>-0.009213</td>\n",
       "      <td>...</td>\n",
       "      <td>0.032816</td>\n",
       "      <td>-0.021770</td>\n",
       "      <td>0.096970</td>\n",
       "      <td>0.139661</td>\n",
       "      <td>0.117472</td>\n",
       "      <td>0.055052</td>\n",
       "      <td>0.216444</td>\n",
       "      <td>0.068204</td>\n",
       "      <td>0.134854</td>\n",
       "      <td>1.000000</td>\n",
       "    </tr>\n",
       "  </tbody>\n",
       "</table>\n",
       "<p>61 rows × 61 columns</p>\n",
       "</div>"
      ],
      "text/plain": [
       "                        UniqueID  disbursed_amount  asset_cost       ltv  \\\n",
       "UniqueID                1.000000          0.146522    0.147428 -0.032781   \n",
       "disbursed_amount        0.146522          1.000000    0.748162  0.379001   \n",
       "asset_cost              0.147428          0.748162    1.000000 -0.305327   \n",
       "ltv                    -0.032781          0.379001   -0.305327  1.000000   \n",
       "branch_id              -0.002939          0.016800    0.018184  0.004870   \n",
       "...                          ...               ...         ...       ...   \n",
       "ltv_risk               -0.028696          0.202989   -0.227683  0.666992   \n",
       "Total_Overdue_Accts    -0.011895          0.018813   -0.012960  0.047955   \n",
       "Voter_ID_Overdue_accts -0.002875          0.004072    0.011382 -0.007408   \n",
       "Age_Deliquent          -0.007150          0.018549   -0.009384  0.041183   \n",
       "High_Overdue_Inquires   0.007722          0.017189   -0.006841  0.036727   \n",
       "\n",
       "                        branch_id  supplier_id  manufacturer_id  \\\n",
       "UniqueID                -0.002939     0.024429        -0.021426   \n",
       "disbursed_amount         0.016800     0.079607         0.100622   \n",
       "asset_cost               0.018184     0.153044        -0.000393   \n",
       "ltv                      0.004870    -0.105760         0.120559   \n",
       "branch_id                1.000000     0.231202        -0.050231   \n",
       "...                           ...          ...              ...   \n",
       "ltv_risk                -0.006508    -0.113443         0.127632   \n",
       "Total_Overdue_Accts     -0.007325    -0.043098         0.026829   \n",
       "Voter_ID_Overdue_accts  -0.010579    -0.003108        -0.001363   \n",
       "Age_Deliquent           -0.000099    -0.023706         0.019290   \n",
       "High_Overdue_Inquires   -0.005359    -0.020096         0.009371   \n",
       "\n",
       "                        Current_pincode_ID  Employment.Type  State_ID  ...  \\\n",
       "UniqueID                          0.030587        -0.029204 -0.056656  ...   \n",
       "disbursed_amount                  0.069067         0.017901 -0.024509  ...   \n",
       "asset_cost                        0.280159        -0.066654 -0.025451  ...   \n",
       "ltv                              -0.301935         0.115946  0.003909  ...   \n",
       "branch_id                         0.052089         0.018231  0.192658  ...   \n",
       "...                                    ...              ...       ...  ...   \n",
       "ltv_risk                         -0.248325         0.094904 -0.009319  ...   \n",
       "Total_Overdue_Accts              -0.067199        -0.024387 -0.010531  ...   \n",
       "Voter_ID_Overdue_accts            0.041332        -0.027427  0.032389  ...   \n",
       "Age_Deliquent                    -0.055396        -0.013984 -0.003099  ...   \n",
       "High_Overdue_Inquires            -0.029484        -0.004518 -0.009213  ...   \n",
       "\n",
       "                        Age_at_disbursal  Salaried_High_CNS  \\\n",
       "UniqueID                        0.021351          -0.010486   \n",
       "disbursed_amount               -0.055719           0.012563   \n",
       "asset_cost                     -0.116350          -0.037214   \n",
       "ltv                             0.081687           0.068754   \n",
       "branch_id                      -0.003525          -0.007137   \n",
       "...                                  ...                ...   \n",
       "ltv_risk                        0.100154           0.048888   \n",
       "Total_Overdue_Accts             0.141639          -0.065638   \n",
       "Voter_ID_Overdue_accts          0.042835          -0.033676   \n",
       "Age_Deliquent                   0.123351          -0.000985   \n",
       "High_Overdue_Inquires           0.032816          -0.021770   \n",
       "\n",
       "                        High_risk_High_loan  Total_Accounts  \\\n",
       "UniqueID                           0.025461       -0.016450   \n",
       "disbursed_amount                   0.142484        0.033880   \n",
       "asset_cost                         0.112079       -0.029004   \n",
       "ltv                                0.039703        0.088414   \n",
       "branch_id                          0.001749       -0.010600   \n",
       "...                                     ...             ...   \n",
       "ltv_risk                           0.052619        0.108700   \n",
       "Total_Overdue_Accts                0.281134        0.350441   \n",
       "Voter_ID_Overdue_accts             0.094890        0.075251   \n",
       "Age_Deliquent                      0.362347        0.324303   \n",
       "High_Overdue_Inquires              0.096970        0.139661   \n",
       "\n",
       "                        Too_many_accounts  ltv_risk  Total_Overdue_Accts  \\\n",
       "UniqueID                        -0.008645 -0.028696            -0.011895   \n",
       "disbursed_amount                 0.028339  0.202989             0.018813   \n",
       "asset_cost                      -0.029700 -0.227683            -0.012960   \n",
       "ltv                              0.083037  0.666992             0.047955   \n",
       "branch_id                       -0.011384 -0.006508            -0.007325   \n",
       "...                                   ...       ...                  ...   \n",
       "ltv_risk                         0.079678  1.000000             0.154105   \n",
       "Total_Overdue_Accts              0.166884  0.154105             1.000000   \n",
       "Voter_ID_Overdue_accts           0.031305  0.040246             0.253805   \n",
       "Age_Deliquent                    0.213918  0.068660             0.488125   \n",
       "High_Overdue_Inquires            0.117472  0.055052             0.216444   \n",
       "\n",
       "                        Voter_ID_Overdue_accts  Age_Deliquent  \\\n",
       "UniqueID                             -0.002875      -0.007150   \n",
       "disbursed_amount                      0.004072       0.018549   \n",
       "asset_cost                            0.011382      -0.009384   \n",
       "ltv                                  -0.007408       0.041183   \n",
       "branch_id                            -0.010579      -0.000099   \n",
       "...                                        ...            ...   \n",
       "ltv_risk                              0.040246       0.068660   \n",
       "Total_Overdue_Accts                   0.253805       0.488125   \n",
       "Voter_ID_Overdue_accts                1.000000       0.122955   \n",
       "Age_Deliquent                         0.122955       1.000000   \n",
       "High_Overdue_Inquires                 0.068204       0.134854   \n",
       "\n",
       "                        High_Overdue_Inquires  \n",
       "UniqueID                             0.007722  \n",
       "disbursed_amount                     0.017189  \n",
       "asset_cost                          -0.006841  \n",
       "ltv                                  0.036727  \n",
       "branch_id                           -0.005359  \n",
       "...                                       ...  \n",
       "ltv_risk                             0.055052  \n",
       "Total_Overdue_Accts                  0.216444  \n",
       "Voter_ID_Overdue_accts               0.068204  \n",
       "Age_Deliquent                        0.134854  \n",
       "High_Overdue_Inquires                1.000000  \n",
       "\n",
       "[61 rows x 61 columns]"
      ]
     },
     "execution_count": 3,
     "metadata": {},
     "output_type": "execute_result"
    }
   ],
   "source": [
    "df.corr() #checking for multicolinearity"
   ]
  },
  {
   "cell_type": "code",
   "execution_count": 4,
   "metadata": {},
   "outputs": [
    {
     "data": {
      "text/plain": [
       "<matplotlib.axes._subplots.AxesSubplot at 0x7fb149e345e0>"
      ]
     },
     "execution_count": 4,
     "metadata": {},
     "output_type": "execute_result"
    },
    {
     "data": {
      "image/png": "[encoded data removed]",
      "text/plain": [
       "<Figure size 792x648 with 2 Axes>"
      ]
     },
     "metadata": {},
     "output_type": "display_data"
    }
   ],
   "source": [
    "sns.set(style=\"white\")\n",
    "# Compute the correlation matrix\n",
    "corr = df.corr()\n",
    "# Generate a mask for the upper triangle\n",
    "mask = np.zeros_like(corr, dtype=np.bool)\n",
    "mask[np.triu_indices_from(mask)] = True\n",
    "# Set up the matplotlib figure\n",
    "f, ax = plt.subplots(figsize=(11, 9))\n",
    "# Generate a custom diverging colormap\n",
    "cmap = sns.diverging_palette(220, 10, as_cmap=True)\n",
    "# Draw the heatmap with the mask and correct aspect ratio\n",
    "sns.heatmap(corr, mask=mask, cmap=cmap, vmax=1, center=0,\n",
    "            square=True, linewidths=.5, cbar_kws={\"shrink\": .5})"
   ]
  },
  {
   "cell_type": "code",
   "execution_count": 5,
   "metadata": {},
   "outputs": [
    {
     "data": {
      "text/plain": [
       "Index(['UniqueID', 'disbursed_amount', 'asset_cost', 'ltv', 'branch_id',\n",
       "       'supplier_id', 'manufacturer_id', 'Current_pincode_ID', 'Date.of.Birth',\n",
       "       'Employment.Type', 'DisbursalDate', 'State_ID', 'Employee_code_ID',\n",
       "       'MobileNo_Avl_Flag', 'Aadhar_flag', 'PAN_flag', 'VoterID_flag',\n",
       "       'Driving_flag', 'Passport_flag', 'PERFORM_CNS.SCORE', 'PRI.NO.OF.ACCTS',\n",
       "       'PRI.ACTIVE.ACCTS', 'PRI.OVERDUE.ACCTS', 'PRI.CURRENT.BALANCE',\n",
       "       'PRI.SANCTIONED.AMOUNT', 'PRI.DISBURSED.AMOUNT', 'SEC.NO.OF.ACCTS',\n",
       "       'SEC.ACTIVE.ACCTS', 'SEC.OVERDUE.ACCTS', 'SEC.CURRENT.BALANCE',\n",
       "       'SEC.SANCTIONED.AMOUNT', 'SEC.DISBURSED.AMOUNT', 'PRIMARY.INSTAL.AMT',\n",
       "       'SEC.INSTAL.AMT', 'NEW.ACCTS.IN.LAST.SIX.MONTHS',\n",
       "       'DELINQUENT.ACCTS.IN.LAST.SIX.MONTHS', 'AVERAGE.ACCT.AGE',\n",
       "       'CREDIT.HISTORY.LENGTH', 'NO.OF_INQUIRIES', 'loan_default',\n",
       "       'B-Very Low Risk', 'C-Very Low Risk', 'D-Very Low Risk', 'E-Low Risk',\n",
       "       'F-Low Risk', 'G-Low Risk', 'H-Medium Risk', 'I-Medium Risk',\n",
       "       'J-High Risk', 'K-High Risk', 'L-Very High Risk', 'M-Very High Risk',\n",
       "       'No Score/No History', 'Age_at_disbursal', 'Salaried_High_CNS',\n",
       "       'High_risk_High_loan', 'Total_Accounts', 'Too_many_accounts',\n",
       "       'ltv_risk', 'Total_Overdue_Accts', 'Voter_ID_Overdue_accts',\n",
       "       'Age_Deliquent', 'High_Overdue_Inquires'],\n",
       "      dtype='object')"
      ]
     },
     "execution_count": 5,
     "metadata": {},
     "output_type": "execute_result"
    }
   ],
   "source": [
    "df.columns"
   ]
  },
  {
   "cell_type": "markdown",
   "metadata": {},
   "source": [
    "# Statistical Test "
   ]
  },
  {
   "cell_type": "code",
   "execution_count": 6,
   "metadata": {},
   "outputs": [
    {
     "data": {
      "text/plain": [
       "<matplotlib.axes._subplots.AxesSubplot at 0x7fb139b2f940>"
      ]
     },
     "execution_count": 6,
     "metadata": {},
     "output_type": "execute_result"
    },
    {
     "data": {
      "image/png": "[encoded data removed]",
      "text/plain": [
       "<Figure size 432x288 with 1 Axes>"
      ]
     },
     "metadata": {},
     "output_type": "display_data"
    }
   ],
   "source": [
    "sns.scatterplot(x=df['Total_Overdue_Accts'],y=df['NO.OF_INQUIRIES'],hue=df.loan_default)"
   ]
  },
  {
   "cell_type": "code",
   "execution_count": 7,
   "metadata": {},
   "outputs": [
    {
     "data": {
      "text/plain": [
       "count    202679.000000\n",
       "mean          0.153903\n",
       "std           0.535437\n",
       "min           0.000000\n",
       "25%           0.000000\n",
       "50%           0.000000\n",
       "75%           0.000000\n",
       "max          18.000000\n",
       "Name: Total_Overdue_Accts, dtype: float64"
      ]
     },
     "execution_count": 7,
     "metadata": {},
     "output_type": "execute_result"
    }
   ],
   "source": [
    "df['Total_Overdue_Accts'].describe()"
   ]
  },
  {
   "cell_type": "code",
   "execution_count": 8,
   "metadata": {},
   "outputs": [
    {
     "data": {
      "text/plain": [
       "count    202679.000000\n",
       "mean          0.215355\n",
       "std           0.723261\n",
       "min           0.000000\n",
       "25%           0.000000\n",
       "50%           0.000000\n",
       "75%           0.000000\n",
       "max          36.000000\n",
       "Name: NO.OF_INQUIRIES, dtype: float64"
      ]
     },
     "execution_count": 8,
     "metadata": {},
     "output_type": "execute_result"
    }
   ],
   "source": [
    "df['NO.OF_INQUIRIES'].describe()"
   ]
  },
  {
   "cell_type": "code",
   "execution_count": 9,
   "metadata": {},
   "outputs": [
    {
     "data": {
      "text/plain": [
       "0.21981063652376417"
      ]
     },
     "execution_count": 9,
     "metadata": {},
     "output_type": "execute_result"
    }
   ],
   "source": [
    "df.loc[:,'loan_default'].mean()"
   ]
  },
  {
   "cell_type": "code",
   "execution_count": 10,
   "metadata": {},
   "outputs": [
    {
     "data": {
      "text/plain": [
       "0.32693461307738453"
      ]
     },
     "execution_count": 10,
     "metadata": {},
     "output_type": "execute_result"
    }
   ],
   "source": [
    "df.loc[(df['NO.OF_INQUIRIES']>=2) & (df['Total_Overdue_Accts']>=1),'loan_default'].mean()"
   ]
  },
  {
   "cell_type": "markdown",
   "metadata": {},
   "source": [
    "# 1 Sample Mean Test\n",
    "## We will be testing whether there is a statistically siginifcant difference in loan default between the group of borrowers wit a high number of inquires and high number of overdue accounts compared to the general borrower population.\n",
    "## Null and Alternative Hypotheseses \n",
    "## asuming alpha=.05"
   ]
  },
  {
   "cell_type": "markdown",
   "metadata": {},
   "source": [
    "## Ho:μo=μ1\n",
    "## Ha: μ0≠μ1"
   ]
  },
  {
   "cell_type": "code",
   "execution_count": 11,
   "metadata": {},
   "outputs": [],
   "source": [
    "high_risk_mean=df.loc[(df['NO.OF_INQUIRIES']>=2) & (df['Total_Overdue_Accts']>=1),'loan_default'].mean()\n",
    "high_risk_std=df.loc[(df['NO.OF_INQUIRIES']>=2) & (df['Total_Overdue_Accts']>=1),'loan_default'].std()\n",
    "high_risk_len=len(df.loc[(df['NO.OF_INQUIRIES']>=2) & (df['Total_Overdue_Accts']>=1),'loan_default'])"
   ]
  },
  {
   "cell_type": "code",
   "execution_count": 12,
   "metadata": {},
   "outputs": [],
   "source": [
    "gen_pop_mean=df.loc[:,'loan_default'].mean()\n",
    "gen_pop_std=df.loc[:,'loan_default'].std()\n",
    "gen_pop_len=len(df.loc[:,'loan_default'])"
   ]
  },
  {
   "cell_type": "code",
   "execution_count": 13,
   "metadata": {},
   "outputs": [],
   "source": [
    "num=high_risk_mean-gen_pop_mean\n",
    "denom=gen_pop_std/np.sqrt(gen_pop_len)\n",
    "Test_stat=num/denom"
   ]
  },
  {
   "cell_type": "code",
   "execution_count": 14,
   "metadata": {},
   "outputs": [
    {
     "data": {
      "text/plain": [
       "116.45700751988142"
      ]
     },
     "execution_count": 14,
     "metadata": {},
     "output_type": "execute_result"
    }
   ],
   "source": [
    "Test_stat"
   ]
  },
  {
   "cell_type": "code",
   "execution_count": 15,
   "metadata": {},
   "outputs": [
    {
     "data": {
      "text/plain": [
       "0.0"
      ]
     },
     "execution_count": 15,
     "metadata": {},
     "output_type": "execute_result"
    }
   ],
   "source": [
    "P_value=(scs.norm.sf(Test_stat))/2 #divided by 2 since 2 tail test\n",
    "P_value #smaller than  threshold in each tail=.05/2=.025"
   ]
  },
  {
   "cell_type": "markdown",
   "metadata": {},
   "source": [
    "## Thus, we can reject the null hypothesis showing that there is a statistically siginificant differnce in default rates for this 'high-risk' group. We can see this through our very large test statistic which resulted in a p value of approximatly zero. (much smaller than .025)"
   ]
  },
  {
   "cell_type": "markdown",
   "metadata": {},
   "source": [
    "## Feature Engineering"
   ]
  },
  {
   "cell_type": "code",
   "execution_count": 16,
   "metadata": {},
   "outputs": [],
   "source": [
    "df['High_Overdue_Inquires']=np.where((df['NO.OF_INQUIRIES']>=2) & (df['Total_Overdue_Accts']>=1),1,0)"
   ]
  },
  {
   "cell_type": "code",
   "execution_count": 17,
   "metadata": {},
   "outputs": [
    {
     "data": {
      "text/plain": [
       "0    201012\n",
       "1      1667\n",
       "Name: High_Overdue_Inquires, dtype: int64"
      ]
     },
     "execution_count": 17,
     "metadata": {},
     "output_type": "execute_result"
    }
   ],
   "source": [
    "df['High_Overdue_Inquires'].value_counts()"
   ]
  },
  {
   "cell_type": "code",
   "execution_count": 18,
   "metadata": {
    "scrolled": true
   },
   "outputs": [
    {
     "data": {
      "text/plain": [
       "[(0.09865138442456285, 'ltv'),\n",
       " (nan, 'MobileNo_Avl_Flag'),\n",
       " (1.0, 'loan_default'),\n",
       " (0.07868482558182581, 'disbursed_amount'),\n",
       " (0.07800923886675715, 'ltv_risk'),\n",
       " (0.05166337891781657, 'State_ID'),\n",
       " (0.04529642461880197, 'VoterID_flag'),\n",
       " (0.04328621132149596, 'NO.OF_INQUIRIES'),\n",
       " (0.040154835787106345, 'M-Very High Risk'),\n",
       " (0.039927526668597856, 'PRI.OVERDUE.ACCTS'),\n",
       " (0.03872758757134032, 'Total_Overdue_Accts'),\n",
       " (0.034648380479632236, 'DELINQUENT.ACCTS.IN.LAST.SIX.MONTHS'),\n",
       " (0.03378281467026905, 'UniqueID'),\n",
       " (0.03315508165348842, 'No Score/No History'),\n",
       " (0.03211410100190991, 'High_risk_High_loan'),\n",
       " (0.031931808062561726, 'Voter_ID_Overdue_accts'),\n",
       " (0.030509821948578413, 'Age_Deliquent'),\n",
       " (0.03036924810394667, 'branch_id'),\n",
       " (0.02859220470520207, 'Date.of.Birth'),\n",
       " (0.02749808985196973, 'K-High Risk'),\n",
       " (0.026514159590324732, 'supplier_id'),\n",
       " (0.02355695372511215, 'High_Overdue_Inquires'),\n",
       " (0.02167992082929982, 'Employee_code_ID'),\n",
       " (0.021673361853525686, 'I-Medium Risk'),\n",
       " (0.014568230859666574, 'asset_cost'),\n",
       " (0.011867232550443004, 'J-High Risk'),\n",
       " (0.01055420142651971, 'H-Medium Risk'),\n",
       " (0.008927483539690575, 'L-Very High Risk'),\n",
       " (0.002084426245183798, 'PAN_flag'),\n",
       " (-0.00021965145011183072, 'SEC.OVERDUE.ACCTS'),\n",
       " (-0.0023553316392961273, 'SEC.INSTAL.AMT'),\n",
       " (-0.004104679534392226, 'Driving_flag'),\n",
       " (-0.0045631939876263185, 'SEC.CURRENT.BALANCE'),\n",
       " (-0.004691195877497027, 'SEC.ACTIVE.ACCTS'),\n",
       " (-0.005161405150938323, 'SEC.DISBURSED.AMOUNT'),\n",
       " (-0.005265208736666755, 'SEC.SANCTIONED.AMOUNT'),\n",
       " (-0.006492499920007042, 'G-Low Risk'),\n",
       " (-0.007509527122924262, 'SEC.NO.OF.ACCTS'),\n",
       " (-0.0088071617509312, 'PRIMARY.INSTAL.AMT'),\n",
       " (-0.009066152397863535, 'Passport_flag'),\n",
       " (-0.01370152268359881, 'F-Low Risk'),\n",
       " (-0.01582689391155582, 'E-Low Risk'),\n",
       " (-0.022125013421241343, 'AVERAGE.ACCT.AGE'),\n",
       " (-0.024124525130112734, 'manufacturer_id'),\n",
       " (-0.027089139311234495, 'PRI.CURRENT.BALANCE'),\n",
       " (-0.028627698115331286, 'C-Very Low Risk'),\n",
       " (-0.029205266118752907, 'PRI.DISBURSED.AMOUNT'),\n",
       " (-0.02939401328527399, 'DisbursalDate'),\n",
       " (-0.029697756112126127, 'PRI.SANCTIONED.AMOUNT'),\n",
       " (-0.03083661807470606, 'NEW.ACCTS.IN.LAST.SIX.MONTHS'),\n",
       " (-0.031124870542915833, 'Age_at_disbursal'),\n",
       " (-0.034104996762119984, 'PRI.NO.OF.ACCTS'),\n",
       " (-0.03453649389595794, 'Total_Accounts'),\n",
       " (-0.03693623523916488, 'D-Very Low Risk'),\n",
       " (-0.0386039924745563, 'Too_many_accounts'),\n",
       " (-0.0394044703058386, 'CREDIT.HISTORY.LENGTH'),\n",
       " (-0.03991718982986745, 'B-Very Low Risk'),\n",
       " (-0.04238823125478161, 'PRI.ACTIVE.ACCTS'),\n",
       " (-0.043219081608136777, 'Aadhar_flag'),\n",
       " (-0.05545254770921194, 'PERFORM_CNS.SCORE'),\n",
       " (-0.06006514858155486, 'Salaried_High_CNS')]"
      ]
     },
     "execution_count": 18,
     "metadata": {},
     "output_type": "execute_result"
    }
   ],
   "source": [
    "corrs_dict={} #checking correlations of all features with target (car loan defaults)\n",
    "for col in df.columns:\n",
    "    try:\n",
    "        corr=df['loan_default'].corr(df[col])\n",
    "    except TypeError:\n",
    "        pass\n",
    "    finally:\n",
    "        corrs_dict[corr]=col\n",
    "sorted(corrs_dict.items(),reverse=True)"
   ]
  },
  {
   "cell_type": "code",
   "execution_count": 19,
   "metadata": {
    "scrolled": true
   },
   "outputs": [
    {
     "name": "stdout",
     "output_type": "stream",
     "text": [
      "UniqueID:int64\n",
      "disbursed_amount:int64\n",
      "asset_cost:int64\n",
      "ltv:float64\n",
      "branch_id:int64\n",
      "supplier_id:int64\n",
      "manufacturer_id:int64\n",
      "Current_pincode_ID:int64\n",
      "Date.of.Birth:object\n",
      "Employment.Type:int64\n",
      "DisbursalDate:object\n",
      "State_ID:int64\n",
      "Employee_code_ID:int64\n",
      "MobileNo_Avl_Flag:int64\n",
      "Aadhar_flag:int64\n",
      "PAN_flag:int64\n",
      "VoterID_flag:int64\n",
      "Driving_flag:int64\n",
      "Passport_flag:int64\n",
      "PERFORM_CNS.SCORE:int64\n",
      "PRI.NO.OF.ACCTS:int64\n",
      "PRI.ACTIVE.ACCTS:int64\n",
      "PRI.OVERDUE.ACCTS:int64\n",
      "PRI.CURRENT.BALANCE:int64\n",
      "PRI.SANCTIONED.AMOUNT:int64\n",
      "PRI.DISBURSED.AMOUNT:int64\n",
      "SEC.NO.OF.ACCTS:int64\n",
      "SEC.ACTIVE.ACCTS:int64\n",
      "SEC.OVERDUE.ACCTS:int64\n",
      "SEC.CURRENT.BALANCE:int64\n",
      "SEC.SANCTIONED.AMOUNT:int64\n",
      "SEC.DISBURSED.AMOUNT:int64\n",
      "PRIMARY.INSTAL.AMT:int64\n",
      "SEC.INSTAL.AMT:int64\n",
      "NEW.ACCTS.IN.LAST.SIX.MONTHS:int64\n",
      "DELINQUENT.ACCTS.IN.LAST.SIX.MONTHS:int64\n",
      "AVERAGE.ACCT.AGE:float64\n",
      "CREDIT.HISTORY.LENGTH:float64\n",
      "NO.OF_INQUIRIES:int64\n",
      "loan_default:int64\n",
      "B-Very Low Risk:int64\n",
      "C-Very Low Risk:int64\n",
      "D-Very Low Risk:int64\n",
      "E-Low Risk:int64\n",
      "F-Low Risk:int64\n",
      "G-Low Risk:int64\n",
      "H-Medium Risk:int64\n",
      "I-Medium Risk:int64\n",
      "J-High Risk:int64\n",
      "K-High Risk:int64\n",
      "L-Very High Risk:int64\n",
      "M-Very High Risk:int64\n",
      "No Score/No History:int64\n",
      "Age_at_disbursal:float64\n",
      "Salaried_High_CNS:int64\n",
      "High_risk_High_loan:int64\n",
      "Total_Accounts:int64\n",
      "Too_many_accounts:int64\n",
      "ltv_risk:int64\n",
      "Total_Overdue_Accts:int64\n",
      "Voter_ID_Overdue_accts:int64\n",
      "Age_Deliquent:float64\n",
      "High_Overdue_Inquires:int64\n"
     ]
    }
   ],
   "source": [
    "for col in df.columns:\n",
    "    print(f'{col}:{df[col].dtype}') #checking if  final df is all numerical"
   ]
  },
  {
   "cell_type": "code",
   "execution_count": 20,
   "metadata": {},
   "outputs": [
    {
     "data": {
      "text/plain": [
       "0"
      ]
     },
     "execution_count": 20,
     "metadata": {},
     "output_type": "execute_result"
    }
   ],
   "source": [
    "df.isna().any().sum() #confirming no null or missing values"
   ]
  },
  {
   "cell_type": "code",
   "execution_count": 21,
   "metadata": {},
   "outputs": [
    {
     "data": {
      "text/plain": [
       "(202679, 63)"
      ]
     },
     "execution_count": 21,
     "metadata": {},
     "output_type": "execute_result"
    }
   ],
   "source": [
    "df.shape #confirming final shape of dataframe"
   ]
  },
  {
   "cell_type": "code",
   "execution_count": 22,
   "metadata": {},
   "outputs": [],
   "source": [
    "df.to_csv('Cleaned_Loan_Dataset.csv') #saving final df for modeling"
   ]
  },
  {
   "cell_type": "code",
   "execution_count": 23,
   "metadata": {},
   "outputs": [
    {
     "data": {
      "text/plain": [
       "(202679, 63)"
      ]
     },
     "execution_count": 23,
     "metadata": {},
     "output_type": "execute_result"
    }
   ],
   "source": [
    "df=pd.read_csv('Cleaned_Loan_Dataset.csv',index_col=0)\n",
    "df.shape #all good with reading in dataset"
   ]
  },
  {
   "cell_type": "code",
   "execution_count": 24,
   "metadata": {
    "scrolled": true
   },
   "outputs": [
    {
     "data": {
      "text/html": [
       "<div>\n",
       "<style scoped>\n",
       "    .dataframe tbody tr th:only-of-type {\n",
       "        vertical-align: middle;\n",
       "    }\n",
       "\n",
       "    .dataframe tbody tr th {\n",
       "        vertical-align: top;\n",
       "    }\n",
       "\n",
       "    .dataframe thead th {\n",
       "        text-align: right;\n",
       "    }\n",
       "</style>\n",
       "<table border=\"1\" class=\"dataframe\">\n",
       "  <thead>\n",
       "    <tr style=\"text-align: right;\">\n",
       "      <th></th>\n",
       "      <th>UniqueID</th>\n",
       "      <th>disbursed_amount</th>\n",
       "      <th>asset_cost</th>\n",
       "      <th>ltv</th>\n",
       "      <th>branch_id</th>\n",
       "      <th>supplier_id</th>\n",
       "      <th>manufacturer_id</th>\n",
       "      <th>Current_pincode_ID</th>\n",
       "      <th>Date.of.Birth</th>\n",
       "      <th>Employment.Type</th>\n",
       "      <th>...</th>\n",
       "      <th>Age_at_disbursal</th>\n",
       "      <th>Salaried_High_CNS</th>\n",
       "      <th>High_risk_High_loan</th>\n",
       "      <th>Total_Accounts</th>\n",
       "      <th>Too_many_accounts</th>\n",
       "      <th>ltv_risk</th>\n",
       "      <th>Total_Overdue_Accts</th>\n",
       "      <th>Voter_ID_Overdue_accts</th>\n",
       "      <th>Age_Deliquent</th>\n",
       "      <th>High_Overdue_Inquires</th>\n",
       "    </tr>\n",
       "  </thead>\n",
       "  <tbody>\n",
       "    <tr>\n",
       "      <th>0</th>\n",
       "      <td>420825</td>\n",
       "      <td>50578</td>\n",
       "      <td>58400</td>\n",
       "      <td>89.55</td>\n",
       "      <td>67</td>\n",
       "      <td>22807</td>\n",
       "      <td>45</td>\n",
       "      <td>1441</td>\n",
       "      <td>1984-01-01</td>\n",
       "      <td>1</td>\n",
       "      <td>...</td>\n",
       "      <td>34.205479</td>\n",
       "      <td>0</td>\n",
       "      <td>0</td>\n",
       "      <td>0</td>\n",
       "      <td>0</td>\n",
       "      <td>1</td>\n",
       "      <td>0</td>\n",
       "      <td>0</td>\n",
       "      <td>0.000000</td>\n",
       "      <td>0</td>\n",
       "    </tr>\n",
       "    <tr>\n",
       "      <th>1</th>\n",
       "      <td>537409</td>\n",
       "      <td>47145</td>\n",
       "      <td>65550</td>\n",
       "      <td>73.23</td>\n",
       "      <td>67</td>\n",
       "      <td>22807</td>\n",
       "      <td>45</td>\n",
       "      <td>1502</td>\n",
       "      <td>1985-07-31</td>\n",
       "      <td>0</td>\n",
       "      <td>...</td>\n",
       "      <td>33.178082</td>\n",
       "      <td>0</td>\n",
       "      <td>0</td>\n",
       "      <td>1</td>\n",
       "      <td>0</td>\n",
       "      <td>0</td>\n",
       "      <td>1</td>\n",
       "      <td>0</td>\n",
       "      <td>33.178082</td>\n",
       "      <td>0</td>\n",
       "    </tr>\n",
       "    <tr>\n",
       "      <th>2</th>\n",
       "      <td>417566</td>\n",
       "      <td>53278</td>\n",
       "      <td>61360</td>\n",
       "      <td>89.63</td>\n",
       "      <td>67</td>\n",
       "      <td>22807</td>\n",
       "      <td>45</td>\n",
       "      <td>1497</td>\n",
       "      <td>1985-08-24</td>\n",
       "      <td>0</td>\n",
       "      <td>...</td>\n",
       "      <td>32.397260</td>\n",
       "      <td>0</td>\n",
       "      <td>0</td>\n",
       "      <td>0</td>\n",
       "      <td>0</td>\n",
       "      <td>1</td>\n",
       "      <td>0</td>\n",
       "      <td>0</td>\n",
       "      <td>0.000000</td>\n",
       "      <td>0</td>\n",
       "    </tr>\n",
       "    <tr>\n",
       "      <th>3</th>\n",
       "      <td>624493</td>\n",
       "      <td>57513</td>\n",
       "      <td>66113</td>\n",
       "      <td>88.48</td>\n",
       "      <td>67</td>\n",
       "      <td>22807</td>\n",
       "      <td>45</td>\n",
       "      <td>1501</td>\n",
       "      <td>1993-12-30</td>\n",
       "      <td>0</td>\n",
       "      <td>...</td>\n",
       "      <td>24.838356</td>\n",
       "      <td>0</td>\n",
       "      <td>0</td>\n",
       "      <td>3</td>\n",
       "      <td>0</td>\n",
       "      <td>1</td>\n",
       "      <td>0</td>\n",
       "      <td>0</td>\n",
       "      <td>0.000000</td>\n",
       "      <td>0</td>\n",
       "    </tr>\n",
       "    <tr>\n",
       "      <th>4</th>\n",
       "      <td>539055</td>\n",
       "      <td>52378</td>\n",
       "      <td>60300</td>\n",
       "      <td>88.39</td>\n",
       "      <td>67</td>\n",
       "      <td>22807</td>\n",
       "      <td>45</td>\n",
       "      <td>1495</td>\n",
       "      <td>1977-09-12</td>\n",
       "      <td>0</td>\n",
       "      <td>...</td>\n",
       "      <td>41.065753</td>\n",
       "      <td>0</td>\n",
       "      <td>0</td>\n",
       "      <td>0</td>\n",
       "      <td>0</td>\n",
       "      <td>1</td>\n",
       "      <td>0</td>\n",
       "      <td>0</td>\n",
       "      <td>0.000000</td>\n",
       "      <td>0</td>\n",
       "    </tr>\n",
       "  </tbody>\n",
       "</table>\n",
       "<p>5 rows × 63 columns</p>\n",
       "</div>"
      ],
      "text/plain": [
       "   UniqueID  disbursed_amount  asset_cost    ltv  branch_id  supplier_id  \\\n",
       "0    420825             50578       58400  89.55         67        22807   \n",
       "1    537409             47145       65550  73.23         67        22807   \n",
       "2    417566             53278       61360  89.63         67        22807   \n",
       "3    624493             57513       66113  88.48         67        22807   \n",
       "4    539055             52378       60300  88.39         67        22807   \n",
       "\n",
       "   manufacturer_id  Current_pincode_ID Date.of.Birth  Employment.Type  ...  \\\n",
       "0               45                1441    1984-01-01                1  ...   \n",
       "1               45                1502    1985-07-31                0  ...   \n",
       "2               45                1497    1985-08-24                0  ...   \n",
       "3               45                1501    1993-12-30                0  ...   \n",
       "4               45                1495    1977-09-12                0  ...   \n",
       "\n",
       "  Age_at_disbursal  Salaried_High_CNS  High_risk_High_loan  Total_Accounts  \\\n",
       "0        34.205479                  0                    0               0   \n",
       "1        33.178082                  0                    0               1   \n",
       "2        32.397260                  0                    0               0   \n",
       "3        24.838356                  0                    0               3   \n",
       "4        41.065753                  0                    0               0   \n",
       "\n",
       "   Too_many_accounts  ltv_risk  Total_Overdue_Accts  Voter_ID_Overdue_accts  \\\n",
       "0                  0         1                    0                       0   \n",
       "1                  0         0                    1                       0   \n",
       "2                  0         1                    0                       0   \n",
       "3                  0         1                    0                       0   \n",
       "4                  0         1                    0                       0   \n",
       "\n",
       "   Age_Deliquent  High_Overdue_Inquires  \n",
       "0       0.000000                      0  \n",
       "1      33.178082                      0  \n",
       "2       0.000000                      0  \n",
       "3       0.000000                      0  \n",
       "4       0.000000                      0  \n",
       "\n",
       "[5 rows x 63 columns]"
      ]
     },
     "execution_count": 24,
     "metadata": {},
     "output_type": "execute_result"
    }
   ],
   "source": [
    "df.head()"
   ]
  },
  {
   "cell_type": "markdown",
   "metadata": {},
   "source": [
    "# Downsampling Majority\n",
    "## Since, we have a large class imbalance and a very large dataset, downsampling the majority is a viable option. It will also help speed up using gridsearch to optimize hyperparameters."
   ]
  },
  {
   "cell_type": "code",
   "execution_count": 25,
   "metadata": {},
   "outputs": [
    {
     "data": {
      "text/plain": [
       "0    0.780189\n",
       "1    0.219811\n",
       "Name: loan_default, dtype: float64"
      ]
     },
     "execution_count": 25,
     "metadata": {},
     "output_type": "execute_result"
    }
   ],
   "source": [
    "df.loan_default.value_counts(normalize=True) \n",
    "#target distribution,have to resolve class imbalance"
   ]
  },
  {
   "cell_type": "code",
   "execution_count": 26,
   "metadata": {},
   "outputs": [],
   "source": [
    "default=df[df['loan_default']==1] #minority\n",
    "majority=df[df['loan_default']==0] #majoirty"
   ]
  },
  {
   "cell_type": "code",
   "execution_count": 27,
   "metadata": {},
   "outputs": [],
   "source": [
    "majority_downsampled = resample(majority,\n",
    "                                replace = False, # sample without replacement\n",
    "                                n_samples = len(default), \n",
    "                                random_state = 1) "
   ]
  },
  {
   "cell_type": "code",
   "execution_count": 28,
   "metadata": {},
   "outputs": [],
   "source": [
    "downsampled = pd.concat([majority_downsampled, default]) \n",
    "#concatanating the majority and minority classes back together"
   ]
  },
  {
   "cell_type": "code",
   "execution_count": 29,
   "metadata": {},
   "outputs": [
    {
     "data": {
      "text/plain": [
       "1    44551\n",
       "0    44551\n",
       "Name: loan_default, dtype: int64"
      ]
     },
     "execution_count": 29,
     "metadata": {},
     "output_type": "execute_result"
    }
   ],
   "source": [
    "downsampled.loan_default.value_counts() #confirming no class imbalance "
   ]
  },
  {
   "cell_type": "code",
   "execution_count": 30,
   "metadata": {},
   "outputs": [
    {
     "data": {
      "text/plain": [
       "(89102, 63)"
      ]
     },
     "execution_count": 30,
     "metadata": {},
     "output_type": "execute_result"
    }
   ],
   "source": [
    "downsampled.shape #shape of downsampled dataframe"
   ]
  },
  {
   "cell_type": "code",
   "execution_count": 31,
   "metadata": {},
   "outputs": [],
   "source": [
    "X=downsampled.drop(axis=1,labels=['loan_default','Date.of.Birth','DisbursalDate'])\n",
    "#dropping target variable and two object features from downsampled dataframe\n",
    "Y=downsampled['loan_default'] #target "
   ]
  },
  {
   "cell_type": "code",
   "execution_count": 32,
   "metadata": {},
   "outputs": [
    {
     "name": "stdout",
     "output_type": "stream",
     "text": [
      "(89102, 60)\n"
     ]
    },
    {
     "data": {
      "text/plain": [
       "(89102,)"
      ]
     },
     "execution_count": 32,
     "metadata": {},
     "output_type": "execute_result"
    }
   ],
   "source": [
    "print(X.shape) #shape of downsampled features dataframe\n",
    "Y.shape #shape of target "
   ]
  },
  {
   "cell_type": "code",
   "execution_count": 33,
   "metadata": {},
   "outputs": [],
   "source": [
    "X_train,X_test,y_train,y_test=train_test_split(X,Y,test_size=.25,random_state=1)"
   ]
  },
  {
   "cell_type": "code",
   "execution_count": 34,
   "metadata": {},
   "outputs": [
    {
     "name": "stdout",
     "output_type": "stream",
     "text": [
      "(66826, 60)\n"
     ]
    },
    {
     "data": {
      "text/plain": [
       "(22276, 60)"
      ]
     },
     "execution_count": 34,
     "metadata": {},
     "output_type": "execute_result"
    }
   ],
   "source": [
    "print(X_train.shape)\n",
    "X_test.shape"
   ]
  },
  {
   "cell_type": "markdown",
   "metadata": {},
   "source": [
    "## To get a baseline 'dummy' model, first I will build a simple logistic regression. \n",
    "# Logistic Regression Model"
   ]
  },
  {
   "cell_type": "code",
   "execution_count": 35,
   "metadata": {},
   "outputs": [],
   "source": [
    "lr_test=LogisticRegression(random_state=1)"
   ]
  },
  {
   "cell_type": "code",
   "execution_count": 36,
   "metadata": {},
   "outputs": [],
   "source": [
    "lr_params={'penalty':['l1','l2',None],'C':[.01,.1,.5,1],'solver':['liblinear','saga'],\n",
    "       'max_iter':[100,250,500]}"
   ]
  },
  {
   "cell_type": "code",
   "execution_count": 37,
   "metadata": {},
   "outputs": [],
   "source": [
    "lr_test_grid=GridSearchCV(lr_test,lr_params,scoring='f1',n_jobs=-1,cv=4,verbose=1)"
   ]
  },
  {
   "cell_type": "code",
   "execution_count": 38,
   "metadata": {
    "scrolled": true
   },
   "outputs": [
    {
     "name": "stdout",
     "output_type": "stream",
     "text": [
      "Fitting 4 folds for each of 72 candidates, totalling 288 fits\n"
     ]
    },
    {
     "name": "stderr",
     "output_type": "stream",
     "text": [
      "[Parallel(n_jobs=-1)]: Using backend LokyBackend with 8 concurrent workers.\n",
      "[Parallel(n_jobs=-1)]: Done  34 tasks      | elapsed:  1.1min\n",
      "[Parallel(n_jobs=-1)]: Done 184 tasks      | elapsed:  5.2min\n",
      "[Parallel(n_jobs=-1)]: Done 288 out of 288 | elapsed:  9.0min finished\n",
      "/Users/scogs/opt/anaconda3/lib/python3.8/site-packages/sklearn/linear_model/_sag.py:329: ConvergenceWarning: The max_iter was reached which means the coef_ did not converge\n",
      "  warnings.warn(\"The max_iter was reached which means \"\n"
     ]
    },
    {
     "data": {
      "text/plain": [
       "GridSearchCV(cv=4, estimator=LogisticRegression(random_state=1), n_jobs=-1,\n",
       "             param_grid={'C': [0.01, 0.1, 0.5, 1], 'max_iter': [100, 250, 500],\n",
       "                         'penalty': ['l1', 'l2', None],\n",
       "                         'solver': ['liblinear', 'saga']},\n",
       "             scoring='f1', verbose=1)"
      ]
     },
     "execution_count": 38,
     "metadata": {},
     "output_type": "execute_result"
    }
   ],
   "source": [
    "lr_test_grid.fit(X_train,y_train)"
   ]
  },
  {
   "cell_type": "code",
   "execution_count": 39,
   "metadata": {},
   "outputs": [
    {
     "data": {
      "text/plain": [
       "0.6525328862753375"
      ]
     },
     "execution_count": 39,
     "metadata": {},
     "output_type": "execute_result"
    }
   ],
   "source": [
    "lr_test_grid.best_score_"
   ]
  },
  {
   "cell_type": "code",
   "execution_count": 40,
   "metadata": {},
   "outputs": [
    {
     "data": {
      "text/plain": [
       "LogisticRegression(C=0.01, penalty='l1', random_state=1, solver='saga')"
      ]
     },
     "execution_count": 40,
     "metadata": {},
     "output_type": "execute_result"
    }
   ],
   "source": [
    "lr_test_grid.best_estimator_"
   ]
  },
  {
   "cell_type": "code",
   "execution_count": 41,
   "metadata": {},
   "outputs": [
    {
     "data": {
      "text/plain": [
       "0.6541409792217112"
      ]
     },
     "execution_count": 41,
     "metadata": {},
     "output_type": "execute_result"
    }
   ],
   "source": [
    "y_preds=lr_test_grid.best_estimator_.predict(X_test)\n",
    "test_f1=metrics.f1_score(y_test,y_preds)\n",
    "test_f1"
   ]
  },
  {
   "cell_type": "code",
   "execution_count": 42,
   "metadata": {},
   "outputs": [
    {
     "name": "stdout",
     "output_type": "stream",
     "text": [
      "Training Accuracy:0.5228952802801304\n",
      "Testing Accuracy:0.5240168791524511\n"
     ]
    }
   ],
   "source": [
    "y_train_preds=lr_test_grid.best_estimator_.predict(X_train)\n",
    "print(f'Training Accuracy:{metrics.accuracy_score(y_train,y_train_preds)}')\n",
    "print(f'Testing Accuracy:{metrics.accuracy_score(y_test,y_preds)}')"
   ]
  },
  {
   "cell_type": "markdown",
   "metadata": {},
   "source": [
    "## Our F1 score of 65.4% on the test set is encouraging, our testing accuracy of 52.4% isn't great however in this case what we really care about is identifying the borrowers who will default accurately. Thus, Recall is really what we care about. Thus, let's see this model's recall scores."
   ]
  },
  {
   "cell_type": "code",
   "execution_count": 43,
   "metadata": {},
   "outputs": [
    {
     "name": "stdout",
     "output_type": "stream",
     "text": [
      "Training Recall Score:0.8974711955708514\n",
      "Testing Recall Score:0.9004130747126436\n"
     ]
    }
   ],
   "source": [
    "print(f'Training Recall Score:{metrics.recall_score(y_train,y_train_preds)}')\n",
    "print(f'Testing Recall Score:{metrics.recall_score(y_test,y_preds)}')"
   ]
  },
  {
   "cell_type": "code",
   "execution_count": 44,
   "metadata": {},
   "outputs": [
    {
     "data": {
      "text/plain": [
       "array([[ 1646,  9494],\n",
       "       [ 1109, 10027]])"
      ]
     },
     "execution_count": 44,
     "metadata": {},
     "output_type": "execute_result"
    }
   ],
   "source": [
    "metrics.confusion_matrix(y_test,y_preds)"
   ]
  },
  {
   "cell_type": "markdown",
   "metadata": {},
   "source": [
    "## Wow, this model performed very well (90% Test Recall Score). I will definitely look more into this model later and play around more with hyperparamters (max iterations didn't even converge) but for now let's see how a few other models compare. But this model certainly looks to be in contention."
   ]
  },
  {
   "cell_type": "markdown",
   "metadata": {},
   "source": [
    "# KNN Model"
   ]
  },
  {
   "cell_type": "code",
   "execution_count": 45,
   "metadata": {},
   "outputs": [],
   "source": [
    "knn=KNeighborsClassifier()\n",
    "knn_params_t={'n_neighbors':range(1,11)}"
   ]
  },
  {
   "cell_type": "code",
   "execution_count": 46,
   "metadata": {},
   "outputs": [],
   "source": [
    "knn_grid=GridSearchCV(knn,knn_params_t,cv=4,verbose=1,n_jobs=-1,scoring='f1')"
   ]
  },
  {
   "cell_type": "code",
   "execution_count": 47,
   "metadata": {},
   "outputs": [
    {
     "name": "stderr",
     "output_type": "stream",
     "text": [
      "[Parallel(n_jobs=-1)]: Using backend LokyBackend with 8 concurrent workers.\n"
     ]
    },
    {
     "name": "stdout",
     "output_type": "stream",
     "text": [
      "Fitting 4 folds for each of 10 candidates, totalling 40 fits\n"
     ]
    },
    {
     "name": "stderr",
     "output_type": "stream",
     "text": [
      "[Parallel(n_jobs=-1)]: Done  40 out of  40 | elapsed:  3.6min finished\n"
     ]
    },
    {
     "data": {
      "text/plain": [
       "GridSearchCV(cv=4, estimator=KNeighborsClassifier(), n_jobs=-1,\n",
       "             param_grid={'n_neighbors': range(1, 11)}, scoring='f1', verbose=1)"
      ]
     },
     "execution_count": 47,
     "metadata": {},
     "output_type": "execute_result"
    }
   ],
   "source": [
    "knn_grid.fit(X_train,y_train)"
   ]
  },
  {
   "cell_type": "code",
   "execution_count": 48,
   "metadata": {},
   "outputs": [
    {
     "data": {
      "text/plain": [
       "{'n_neighbors': 9}"
      ]
     },
     "execution_count": 48,
     "metadata": {},
     "output_type": "execute_result"
    }
   ],
   "source": [
    "knn_grid.best_params_"
   ]
  },
  {
   "cell_type": "code",
   "execution_count": 49,
   "metadata": {},
   "outputs": [
    {
     "data": {
      "text/plain": [
       "0.5476586746350123"
      ]
     },
     "execution_count": 49,
     "metadata": {},
     "output_type": "execute_result"
    }
   ],
   "source": [
    "knn_grid.best_score_"
   ]
  },
  {
   "cell_type": "code",
   "execution_count": 50,
   "metadata": {},
   "outputs": [
    {
     "data": {
      "text/plain": [
       "KNeighborsClassifier(n_neighbors=9)"
      ]
     },
     "execution_count": 50,
     "metadata": {},
     "output_type": "execute_result"
    }
   ],
   "source": [
    "knn_grid.best_estimator_"
   ]
  },
  {
   "cell_type": "code",
   "execution_count": 51,
   "metadata": {},
   "outputs": [],
   "source": [
    "y_train_pred=knn_grid.best_estimator_.predict(X_train)\n",
    "y_pred=knn_grid.best_estimator_.predict(X_test)"
   ]
  },
  {
   "cell_type": "code",
   "execution_count": 52,
   "metadata": {},
   "outputs": [
    {
     "data": {
      "text/plain": [
       "0.552317880794702"
      ]
     },
     "execution_count": 52,
     "metadata": {},
     "output_type": "execute_result"
    }
   ],
   "source": [
    "test_f1=metrics.f1_score(y_test,y_pred)\n",
    "test_f1"
   ]
  },
  {
   "cell_type": "code",
   "execution_count": 53,
   "metadata": {},
   "outputs": [
    {
     "name": "stdout",
     "output_type": "stream",
     "text": [
      "Training Accuracy:0.6584712537036482\n",
      "Testing Accuracy:0.5448015801759741\n"
     ]
    }
   ],
   "source": [
    "print(f'Training Accuracy:{metrics.accuracy_score(y_train,y_train_pred)}')\n",
    "print(f'Testing Accuracy:{metrics.accuracy_score(y_test,y_pred)}')"
   ]
  },
  {
   "cell_type": "code",
   "execution_count": 54,
   "metadata": {},
   "outputs": [
    {
     "name": "stdout",
     "output_type": "stream",
     "text": [
      "Training Recall Score:0.6702678437827323\n",
      "Testing Recall Score:0.5616918103448276\n"
     ]
    }
   ],
   "source": [
    "print(f'Training Recall Score:{metrics.recall_score(y_train,y_train_pred)}')\n",
    "print(f'Testing Recall Score:{metrics.recall_score(y_test,y_pred)}')"
   ]
  },
  {
   "cell_type": "markdown",
   "metadata": {},
   "source": [
    "## Interestingly, The model seems to be overfit based on the n neighbors parameter selected by grid search. Overall, this model performed ok but not nearly as well as the logistic regression. For now, I want to test out more models but at the very least, I want to test if this model could help improve performance in a ensemble model and maybe try more n neighbor options."
   ]
  },
  {
   "cell_type": "markdown",
   "metadata": {},
   "source": [
    "# Decision Tree Model"
   ]
  },
  {
   "cell_type": "code",
   "execution_count": 55,
   "metadata": {},
   "outputs": [],
   "source": [
    "dt_clf=DecisionTreeClassifier(random_state=1)\n",
    "params_dt={'criterion':['gini','entropy'],'max_depth':[2,3,5,6],\n",
    "           'max_features':[2,4,5],'min_samples_leaf':[1,2,4,6]}"
   ]
  },
  {
   "cell_type": "code",
   "execution_count": 56,
   "metadata": {},
   "outputs": [],
   "source": [
    "dt_grid=GridSearchCV(dt_clf,params_dt,cv=4,verbose=1,n_jobs=-1,scoring='f1')"
   ]
  },
  {
   "cell_type": "code",
   "execution_count": 57,
   "metadata": {},
   "outputs": [
    {
     "name": "stdout",
     "output_type": "stream",
     "text": [
      "Fitting 4 folds for each of 96 candidates, totalling 384 fits\n"
     ]
    },
    {
     "name": "stderr",
     "output_type": "stream",
     "text": [
      "[Parallel(n_jobs=-1)]: Using backend LokyBackend with 8 concurrent workers.\n",
      "[Parallel(n_jobs=-1)]: Done  52 tasks      | elapsed:    0.8s\n",
      "[Parallel(n_jobs=-1)]: Done 352 tasks      | elapsed:    4.8s\n",
      "[Parallel(n_jobs=-1)]: Done 384 out of 384 | elapsed:    5.3s finished\n"
     ]
    },
    {
     "data": {
      "text/plain": [
       "GridSearchCV(cv=4, estimator=DecisionTreeClassifier(random_state=1), n_jobs=-1,\n",
       "             param_grid={'criterion': ['gini', 'entropy'],\n",
       "                         'max_depth': [2, 3, 5, 6], 'max_features': [2, 4, 5],\n",
       "                         'min_samples_leaf': [1, 2, 4, 6]},\n",
       "             scoring='f1', verbose=1)"
      ]
     },
     "execution_count": 57,
     "metadata": {},
     "output_type": "execute_result"
    }
   ],
   "source": [
    "dt_grid.fit(X_train,y_train)"
   ]
  },
  {
   "cell_type": "code",
   "execution_count": 58,
   "metadata": {},
   "outputs": [
    {
     "data": {
      "text/plain": [
       "0.6579980213160991"
      ]
     },
     "execution_count": 58,
     "metadata": {},
     "output_type": "execute_result"
    }
   ],
   "source": [
    "dt_grid.best_score_"
   ]
  },
  {
   "cell_type": "code",
   "execution_count": 59,
   "metadata": {},
   "outputs": [
    {
     "data": {
      "text/plain": [
       "DecisionTreeClassifier(max_depth=2, max_features=5, random_state=1)"
      ]
     },
     "execution_count": 59,
     "metadata": {},
     "output_type": "execute_result"
    }
   ],
   "source": [
    "dt_grid.best_estimator_"
   ]
  },
  {
   "cell_type": "code",
   "execution_count": 60,
   "metadata": {},
   "outputs": [],
   "source": [
    "y_train_preds=dt_grid.best_estimator_.predict(X_train)\n",
    "y_preds=dt_grid.best_estimator_.predict(X_test)\n",
    "dt_test_f1_score=metrics.f1_score(y_test,y_preds)"
   ]
  },
  {
   "cell_type": "code",
   "execution_count": 61,
   "metadata": {},
   "outputs": [
    {
     "data": {
      "text/plain": [
       "0.6588040290705087"
      ]
     },
     "execution_count": 61,
     "metadata": {},
     "output_type": "execute_result"
    }
   ],
   "source": [
    "dt_test_f1_score"
   ]
  },
  {
   "cell_type": "code",
   "execution_count": 62,
   "metadata": {},
   "outputs": [
    {
     "name": "stdout",
     "output_type": "stream",
     "text": [
      "Training Accuracy:0.5192290425882141\n",
      "Testing Accuracy:0.5194828514993716\n"
     ]
    }
   ],
   "source": [
    "print(f'Training Accuracy:{metrics.accuracy_score(y_train,y_train_preds)}')\n",
    "print(f'Testing Accuracy:{metrics.accuracy_score(y_test,y_preds)}')"
   ]
  },
  {
   "cell_type": "code",
   "execution_count": 63,
   "metadata": {},
   "outputs": [
    {
     "name": "stdout",
     "output_type": "stream",
     "text": [
      "Training Recall Score:0.9273978752057459\n",
      "Testing Recall Score:0.9279813218390804\n"
     ]
    }
   ],
   "source": [
    "print(f'Training Recall Score:{metrics.recall_score(y_train,y_train_preds)}')\n",
    "print(f'Testing Recall Score:{metrics.recall_score(y_test,y_preds)}')"
   ]
  },
  {
   "cell_type": "code",
   "execution_count": null,
   "metadata": {},
   "outputs": [],
   "source": []
  },
  {
   "cell_type": "markdown",
   "metadata": {},
   "source": [
    "## The Decision Tree Model performed very well. In terms of F1 score, the Decision Tree edged out the logisitic regression at 65.8% on the test set vs 65.4% respectively. However, The Decision Tree's performance was more notable in terms of Recall score which is ultimately the most important metric in my decision making. It achieved a Recall score of over 92.7% on both the test and training sets, both well above the logistic regression model's equivalents. It will be interesting to see how this model compares to other top perrfoming models like XGBoost and Random Forest. At the very least, this model should be in strong consideration due to it's scores and also it's high interpretability.\n"
   ]
  },
  {
   "cell_type": "markdown",
   "metadata": {},
   "source": [
    "# Random Forest Model "
   ]
  },
  {
   "cell_type": "code",
   "execution_count": 64,
   "metadata": {},
   "outputs": [],
   "source": [
    "rf_clf=RandomForestClassifier(n_estimators=100,criterion='entropy',max_depth=7,\n",
    "                              min_samples_leaf=7,\n",
    "                              random_state=1)"
   ]
  },
  {
   "cell_type": "code",
   "execution_count": 65,
   "metadata": {},
   "outputs": [],
   "source": [
    "params_rf={'max_leaf_nodes':[100,250,500]}"
   ]
  },
  {
   "cell_type": "code",
   "execution_count": 66,
   "metadata": {},
   "outputs": [],
   "source": [
    "grid_forest=GridSearchCV(rf_clf,params_rf,scoring='f1',cv=4,verbose=1,n_jobs=-1)"
   ]
  },
  {
   "cell_type": "code",
   "execution_count": 67,
   "metadata": {
    "scrolled": true
   },
   "outputs": [
    {
     "name": "stdout",
     "output_type": "stream",
     "text": [
      "Fitting 4 folds for each of 3 candidates, totalling 12 fits\n"
     ]
    },
    {
     "name": "stderr",
     "output_type": "stream",
     "text": [
      "[Parallel(n_jobs=-1)]: Using backend LokyBackend with 8 concurrent workers.\n",
      "[Parallel(n_jobs=-1)]: Done  10 out of  12 | elapsed:   13.8s remaining:    2.8s\n",
      "[Parallel(n_jobs=-1)]: Done  12 out of  12 | elapsed:   13.8s finished\n"
     ]
    },
    {
     "data": {
      "text/plain": [
       "GridSearchCV(cv=4,\n",
       "             estimator=RandomForestClassifier(criterion='entropy', max_depth=7,\n",
       "                                              min_samples_leaf=7,\n",
       "                                              random_state=1),\n",
       "             n_jobs=-1, param_grid={'max_leaf_nodes': [100, 250, 500]},\n",
       "             scoring='f1', verbose=1)"
      ]
     },
     "execution_count": 67,
     "metadata": {},
     "output_type": "execute_result"
    }
   ],
   "source": [
    "grid_forest.fit(X_train,y_train)"
   ]
  },
  {
   "cell_type": "code",
   "execution_count": 68,
   "metadata": {},
   "outputs": [
    {
     "data": {
      "text/plain": [
       "{'max_leaf_nodes': 250}"
      ]
     },
     "execution_count": 68,
     "metadata": {},
     "output_type": "execute_result"
    }
   ],
   "source": [
    "grid_forest.best_params_"
   ]
  },
  {
   "cell_type": "code",
   "execution_count": 69,
   "metadata": {},
   "outputs": [
    {
     "data": {
      "text/plain": [
       "0.6228437015818294"
      ]
     },
     "execution_count": 69,
     "metadata": {},
     "output_type": "execute_result"
    }
   ],
   "source": [
    "grid_forest.best_score_"
   ]
  },
  {
   "cell_type": "code",
   "execution_count": 70,
   "metadata": {},
   "outputs": [
    {
     "data": {
      "text/plain": [
       "RandomForestClassifier(criterion='entropy', max_depth=7, max_leaf_nodes=250,\n",
       "                       min_samples_leaf=7, random_state=1)"
      ]
     },
     "execution_count": 70,
     "metadata": {},
     "output_type": "execute_result"
    }
   ],
   "source": [
    "grid_forest.best_estimator_"
   ]
  },
  {
   "cell_type": "code",
   "execution_count": 71,
   "metadata": {},
   "outputs": [],
   "source": [
    "y_train_preds=grid_forest.best_estimator_.predict(X_train)\n",
    "y_preds=grid_forest.best_estimator_.predict(X_test)"
   ]
  },
  {
   "cell_type": "code",
   "execution_count": 72,
   "metadata": {},
   "outputs": [
    {
     "data": {
      "text/plain": [
       "0.552317880794702"
      ]
     },
     "execution_count": 72,
     "metadata": {},
     "output_type": "execute_result"
    }
   ],
   "source": [
    "test_f1_dt=metrics.f1_score(y_test,y_preds)\n",
    "test_f1"
   ]
  },
  {
   "cell_type": "code",
   "execution_count": 73,
   "metadata": {},
   "outputs": [
    {
     "name": "stdout",
     "output_type": "stream",
     "text": [
      "Training Accuracy:0.6191452428695418\n",
      "Testing Accuracy:0.6052702460046687\n"
     ]
    }
   ],
   "source": [
    "print(f'Training Accuracy:{metrics.accuracy_score(y_train,y_train_preds)}')\n",
    "print(f'Testing Accuracy:{metrics.accuracy_score(y_test,y_preds)}')"
   ]
  },
  {
   "cell_type": "code",
   "execution_count": 74,
   "metadata": {},
   "outputs": [
    {
     "name": "stdout",
     "output_type": "stream",
     "text": [
      "Training Recall Score:0.6730510249887774\n",
      "Testing Recall Score:0.658135775862069\n"
     ]
    }
   ],
   "source": [
    "print(f'Training Recall Score:{metrics.recall_score(y_train,y_train_preds)}')\n",
    "print(f'Testing Recall Score:{metrics.recall_score(y_test,y_preds)}')"
   ]
  },
  {
   "cell_type": "markdown",
   "metadata": {},
   "source": [
    "## Surprisingly, even after optimizing hyperparameters through GridSearch, the Random Forest Model did not do as well as the Decision Tree Model.  In terms of F1 score it achieved a  .55 on the test set and a recall score of .65 on the test set. However, Both of these are both lower than the Decison Tree scores. Interestingly, the Random Forest Model did achieve the highest accuracy score of .605 on the test set. Thus, the Random Forest Model could be useful in an ensemble model. "
   ]
  },
  {
   "cell_type": "markdown",
   "metadata": {},
   "source": [
    "## XGBoost Model"
   ]
  },
  {
   "cell_type": "code",
   "execution_count": 75,
   "metadata": {},
   "outputs": [],
   "source": [
    "import xgboost as xgb #additional library, not part of sklearn"
   ]
  },
  {
   "cell_type": "code",
   "execution_count": 76,
   "metadata": {},
   "outputs": [],
   "source": [
    "xgb_clf=xgb.XGBClassifier(learning_rate=.1,max_depth=5,min_child_weight=1,\n",
    "                          max_delta_step=2,booster='gbtree',random_state=1)\n",
    "xgb_params={'gamma':[.1,.15,.2,.25,.3]}"
   ]
  },
  {
   "cell_type": "code",
   "execution_count": 77,
   "metadata": {},
   "outputs": [],
   "source": [
    "xgb_grid=GridSearchCV(xgb_clf,xgb_params,cv=4,verbose=1,n_jobs=-1,scoring='f1')"
   ]
  },
  {
   "cell_type": "code",
   "execution_count": 78,
   "metadata": {},
   "outputs": [
    {
     "name": "stdout",
     "output_type": "stream",
     "text": [
      "Fitting 4 folds for each of 5 candidates, totalling 20 fits\n"
     ]
    },
    {
     "name": "stderr",
     "output_type": "stream",
     "text": [
      "[Parallel(n_jobs=-1)]: Using backend LokyBackend with 8 concurrent workers.\n",
      "[Parallel(n_jobs=-1)]: Done  20 out of  20 | elapsed:  1.3min finished\n"
     ]
    },
    {
     "data": {
      "text/plain": [
       "GridSearchCV(cv=4,\n",
       "             estimator=XGBClassifier(base_score=None, booster='gbtree',\n",
       "                                     colsample_bylevel=None,\n",
       "                                     colsample_bynode=None,\n",
       "                                     colsample_bytree=None, gamma=None,\n",
       "                                     gpu_id=None, importance_type='gain',\n",
       "                                     interaction_constraints=None,\n",
       "                                     learning_rate=0.1, max_delta_step=2,\n",
       "                                     max_depth=5, min_child_weight=1,\n",
       "                                     missing=nan, monotone_constraints=None,\n",
       "                                     n_estimators=100, n_jobs=None,\n",
       "                                     num_parallel_tree=None, random_state=1,\n",
       "                                     reg_alpha=None, reg_lambda=None,\n",
       "                                     scale_pos_weight=None, subsample=None,\n",
       "                                     tree_method=None, validate_parameters=None,\n",
       "                                     verbosity=None),\n",
       "             n_jobs=-1, param_grid={'gamma': [0.1, 0.15, 0.2, 0.25, 0.3]},\n",
       "             scoring='f1', verbose=1)"
      ]
     },
     "execution_count": 78,
     "metadata": {},
     "output_type": "execute_result"
    }
   ],
   "source": [
    "xgb_grid.fit(X_train,y_train)"
   ]
  },
  {
   "cell_type": "code",
   "execution_count": 79,
   "metadata": {},
   "outputs": [
    {
     "data": {
      "text/plain": [
       "{'gamma': 0.1}"
      ]
     },
     "execution_count": 79,
     "metadata": {},
     "output_type": "execute_result"
    }
   ],
   "source": [
    "xgb_grid.best_params_"
   ]
  },
  {
   "cell_type": "code",
   "execution_count": 80,
   "metadata": {},
   "outputs": [
    {
     "data": {
      "text/plain": [
       "0.631186589288819"
      ]
     },
     "execution_count": 80,
     "metadata": {},
     "output_type": "execute_result"
    }
   ],
   "source": [
    "xgb_grid.best_score_"
   ]
  },
  {
   "cell_type": "code",
   "execution_count": 81,
   "metadata": {},
   "outputs": [
    {
     "data": {
      "text/plain": [
       "XGBClassifier(base_score=0.5, booster='gbtree', colsample_bylevel=1,\n",
       "              colsample_bynode=1, colsample_bytree=1, gamma=0.1, gpu_id=-1,\n",
       "              importance_type='gain', interaction_constraints='',\n",
       "              learning_rate=0.1, max_delta_step=2, max_depth=5,\n",
       "              min_child_weight=1, missing=nan, monotone_constraints='()',\n",
       "              n_estimators=100, n_jobs=0, num_parallel_tree=1, random_state=1,\n",
       "              reg_alpha=0, reg_lambda=1, scale_pos_weight=1, subsample=1,\n",
       "              tree_method='exact', validate_parameters=1, verbosity=None)"
      ]
     },
     "execution_count": 81,
     "metadata": {},
     "output_type": "execute_result"
    }
   ],
   "source": [
    "xgb_grid.best_estimator_"
   ]
  },
  {
   "cell_type": "code",
   "execution_count": 82,
   "metadata": {},
   "outputs": [],
   "source": [
    "y_train_preds=xgb_grid.best_estimator_.predict(X_train)\n",
    "y_preds=xgb_grid.best_estimator_.predict(X_test)"
   ]
  },
  {
   "cell_type": "code",
   "execution_count": 83,
   "metadata": {},
   "outputs": [
    {
     "data": {
      "text/plain": [
       "0.552317880794702"
      ]
     },
     "execution_count": 83,
     "metadata": {},
     "output_type": "execute_result"
    }
   ],
   "source": [
    "test_f1_dt=metrics.f1_score(y_test,y_preds)\n",
    "test_f1"
   ]
  },
  {
   "cell_type": "code",
   "execution_count": 84,
   "metadata": {},
   "outputs": [
    {
     "name": "stdout",
     "output_type": "stream",
     "text": [
      "Training Accuracy:0.6524406668063328\n",
      "Testing Accuracy:0.6139791704076136\n"
     ]
    }
   ],
   "source": [
    "print(f'Training Accuracy:{metrics.accuracy_score(y_train,y_train_preds)}')\n",
    "print(f'Testing Accuracy:{metrics.accuracy_score(y_test,y_preds)}')"
   ]
  },
  {
   "cell_type": "code",
   "execution_count": 85,
   "metadata": {},
   "outputs": [
    {
     "name": "stdout",
     "output_type": "stream",
     "text": [
      "Training Recall Score:0.6954960347149484\n",
      "Testing Recall Score:0.6552622126436781\n"
     ]
    }
   ],
   "source": [
    "print(f'Training Recall Score:{metrics.recall_score(y_train,y_train_preds)}')\n",
    "print(f'Testing Recall Score:{metrics.recall_score(y_test,y_preds)}')"
   ]
  },
  {
   "cell_type": "markdown",
   "metadata": {},
   "source": [
    "## The XGBoost Model ended up performing very similarly to the Random Forest Model. It's .552 F1 score on the test set is nearly identical and its' recall score is also near identical. It's accuracy was slightly better but still it did not outperform Decision Tree on F1 score nor Recall Score which I am weighing the heaviest."
   ]
  },
  {
   "cell_type": "markdown",
   "metadata": {},
   "source": [
    "# Ensemble Method Voting Classifier Model"
   ]
  },
  {
   "cell_type": "markdown",
   "metadata": {},
   "source": [
    "## Now let's see construct a voting classifier model which will be an ensemble of the models created thus far. Ideally, this model should outperform any individual model."
   ]
  },
  {
   "cell_type": "code",
   "execution_count": 86,
   "metadata": {},
   "outputs": [],
   "source": [
    "lr=lr_test_grid.best_estimator_\n",
    "rf=grid_forest.best_estimator_ #saving all optimized models for ensemble \n",
    "knn=knn_grid.best_estimator_\n",
    "dt=dt_grid.best_estimator_\n",
    "xgb=xgb_grid.best_estimator_"
   ]
  },
  {
   "cell_type": "code",
   "execution_count": 87,
   "metadata": {},
   "outputs": [],
   "source": [
    "voting_clf=VotingClassifier(estimators=[('logreg',lr),('randomforest',rf),('knn',knn),\n",
    "                           ('decisiontree',dt),('xgb',xgb)],voting='hard')"
   ]
  },
  {
   "cell_type": "code",
   "execution_count": 88,
   "metadata": {
    "scrolled": true
   },
   "outputs": [
    {
     "name": "stderr",
     "output_type": "stream",
     "text": [
      "/Users/scogs/opt/anaconda3/lib/python3.8/site-packages/sklearn/linear_model/_sag.py:329: ConvergenceWarning: The max_iter was reached which means the coef_ did not converge\n",
      "  warnings.warn(\"The max_iter was reached which means \"\n"
     ]
    },
    {
     "data": {
      "text/plain": [
       "VotingClassifier(estimators=[('logreg',\n",
       "                              LogisticRegression(C=0.01, penalty='l1',\n",
       "                                                 random_state=1,\n",
       "                                                 solver='saga')),\n",
       "                             ('randomforest',\n",
       "                              RandomForestClassifier(criterion='entropy',\n",
       "                                                     max_depth=7,\n",
       "                                                     max_leaf_nodes=250,\n",
       "                                                     min_samples_leaf=7,\n",
       "                                                     random_state=1)),\n",
       "                             ('knn', KNeighborsClassifier(n_neighbors=9)),\n",
       "                             ('decisiontree',\n",
       "                              DecisionTreeClassifier(max_depth=2,\n",
       "                                                     max_features=5,\n",
       "                                                     rando...\n",
       "                                            colsample_bytree=1, gamma=0.1,\n",
       "                                            gpu_id=-1, importance_type='gain',\n",
       "                                            interaction_constraints='',\n",
       "                                            learning_rate=0.1, max_delta_step=2,\n",
       "                                            max_depth=5, min_child_weight=1,\n",
       "                                            missing=nan,\n",
       "                                            monotone_constraints='()',\n",
       "                                            n_estimators=100, n_jobs=0,\n",
       "                                            num_parallel_tree=1, random_state=1,\n",
       "                                            reg_alpha=0, reg_lambda=1,\n",
       "                                            scale_pos_weight=1, subsample=1,\n",
       "                                            tree_method='exact',\n",
       "                                            validate_parameters=1,\n",
       "                                            verbosity=None))])"
      ]
     },
     "execution_count": 88,
     "metadata": {},
     "output_type": "execute_result"
    }
   ],
   "source": [
    "voting_clf.fit(X_train,y_train)"
   ]
  },
  {
   "cell_type": "code",
   "execution_count": 89,
   "metadata": {},
   "outputs": [],
   "source": [
    "train_pred=voting_clf.predict(X_train)\n",
    "test_pred=voting_clf.predict(X_test)"
   ]
  },
  {
   "cell_type": "code",
   "execution_count": 90,
   "metadata": {},
   "outputs": [],
   "source": [
    "f1_score_train=metrics.f1_score(y_train,train_pred)\n",
    "f1_score_test=metrics.f1_score(y_test,test_pred)"
   ]
  },
  {
   "cell_type": "code",
   "execution_count": 91,
   "metadata": {},
   "outputs": [],
   "source": [
    "train_Recall_Score=metrics.recall_score(y_train,train_pred)\n",
    "test_Recall_Score=metrics.recall_score(y_test,test_pred)"
   ]
  },
  {
   "cell_type": "code",
   "execution_count": 92,
   "metadata": {},
   "outputs": [],
   "source": [
    "Accuracy_train=metrics.accuracy_score(y_train,train_pred)\n",
    "Accuracy_test=metrics.accuracy_score(y_test,test_pred)"
   ]
  },
  {
   "cell_type": "code",
   "execution_count": 93,
   "metadata": {},
   "outputs": [
    {
     "name": "stdout",
     "output_type": "stream",
     "text": [
      "Training F1 Score:0.6929175015245229\n",
      "Training Recall Score:0.8331288343558282\n",
      "Training Accuracy Score:0.6307574895998563\n"
     ]
    }
   ],
   "source": [
    "print(f'Training F1 Score:{f1_score_train}')\n",
    "print(f'Training Recall Score:{train_Recall_Score}')\n",
    "print(f'Training Accuracy Score:{Accuracy_train}')"
   ]
  },
  {
   "cell_type": "code",
   "execution_count": 94,
   "metadata": {},
   "outputs": [
    {
     "name": "stdout",
     "output_type": "stream",
     "text": [
      "Testing F1 Score:0.6540810247244563\n",
      "Testing Recall Score:0.7887033045977011\n",
      "Testing Accuracy Score:0.5829592386424852\n"
     ]
    }
   ],
   "source": [
    "print(f'Testing F1 Score:{f1_score_test}')\n",
    "print(f'Testing Recall Score:{test_Recall_Score}')\n",
    "print(f'Testing Accuracy Score:{Accuracy_test}')"
   ]
  },
  {
   "cell_type": "markdown",
   "metadata": {},
   "source": [
    "## The voting classifer performed very well. With a testing F1 score 0f .654 and Recall score of .788 it was our second best performing model. The Decision Tree model recieved higher scores in both of these metrics. The voting classifier did achieve a higher accuracy score but for this case, that is not nearly as important. Thus, due to its best scores in F1 and Recall, and it's high interpretability I will select the Decision Tree Model to be my final model."
   ]
  },
  {
   "cell_type": "markdown",
   "metadata": {},
   "source": [
    "## Final Model"
   ]
  },
  {
   "cell_type": "code",
   "execution_count": 95,
   "metadata": {},
   "outputs": [],
   "source": [
    "final_model=dt_grid.best_estimator_"
   ]
  },
  {
   "cell_type": "code",
   "execution_count": 96,
   "metadata": {},
   "outputs": [],
   "source": [
    "preds=final_model.predict(X_test)\n",
    "cm=metrics.confusion_matrix(y_test,preds)"
   ]
  },
  {
   "cell_type": "code",
   "execution_count": 97,
   "metadata": {},
   "outputs": [
    {
     "data": {
      "text/plain": [
       "array([[ 1238,  9902],\n",
       "       [  802, 10334]])"
      ]
     },
     "execution_count": 97,
     "metadata": {},
     "output_type": "execute_result"
    }
   ],
   "source": [
    "cm"
   ]
  },
  {
   "cell_type": "code",
   "execution_count": 98,
   "metadata": {},
   "outputs": [],
   "source": [
    "def plot_confusion_matrix(cm, classes,\n",
    "                          normalize=False,\n",
    "                          title='Confusion matrix',\n",
    "                          cmap=plt.cm.Blues):\n",
    "    \"\"\"\n",
    "    This function prints and plots the confusion matrix.\n",
    "    Normalization can be applied by setting `normalize=True`.\n",
    "    \"\"\"\n",
    "    if normalize:\n",
    "        cm = cm.astype('float') / cm.sum(axis=1)[:, np.newaxis]\n",
    "        print(\"Normalized confusion matrix\")\n",
    "    else:\n",
    "        print('Confusion Matrix, without normalization')\n",
    "\n",
    "    print(cm)\n",
    "\n",
    "    plt.imshow(cm, interpolation='nearest', cmap=cmap)\n",
    "    plt.title(title)\n",
    "    plt.colorbar()\n",
    "    tick_marks = np.arange(len(classes))\n",
    "    plt.xticks(tick_marks, classes, rotation=45)\n",
    "    plt.yticks(tick_marks, classes)\n",
    "\n",
    "    fmt = '.2f' if normalize else 'd'\n",
    "    thresh = cm.max() / 2.\n",
    "    for i, j in itertools.product(range(cm.shape[0]), range(cm.shape[1])):\n",
    "        plt.text(j, i, format(cm[i, j], fmt),\n",
    "                 horizontalalignment=\"center\",\n",
    "                 color=\"white\" if cm[i, j] > thresh else \"black\")\n",
    "\n",
    "    plt.tight_layout()\n",
    "    plt.ylabel('True label')\n",
    "    plt.xlabel('Predicted label')"
   ]
  },
  {
   "cell_type": "code",
   "execution_count": 100,
   "metadata": {},
   "outputs": [
    {
     "name": "stdout",
     "output_type": "stream",
     "text": [
      "Confusion Matrix, without normalization\n",
      "[[ 1238  9902]\n",
      " [  802 10334]]\n"
     ]
    },
    {
     "data": {
      "image/png": "[encoded data removed]",
      "text/plain": [
       "<Figure size 432x288 with 2 Axes>"
      ]
     },
     "metadata": {},
     "output_type": "display_data"
    }
   ],
   "source": [
    "import itertools\n",
    "classes=['Loan Default','No Default']\n",
    "plot_confusion_matrix(cm, classes,\n",
    "                          normalize=False,\n",
    "                          title='Confusion matrix',\n",
    "                          cmap=plt.cm.Blues)"
   ]
  },
  {
   "cell_type": "code",
   "execution_count": 101,
   "metadata": {},
   "outputs": [
    {
     "name": "stdout",
     "output_type": "stream",
     "text": [
      "              precision    recall  f1-score   support\n",
      "\n",
      "           0       0.61      0.11      0.19     11140\n",
      "           1       0.51      0.93      0.66     11136\n",
      "\n",
      "    accuracy                           0.52     22276\n",
      "   macro avg       0.56      0.52      0.42     22276\n",
      "weighted avg       0.56      0.52      0.42     22276\n",
      "\n"
     ]
    }
   ],
   "source": [
    "print(metrics.classification_report(y_test,preds))"
   ]
  },
  {
   "cell_type": "code",
   "execution_count": 102,
   "metadata": {},
   "outputs": [],
   "source": [
    "importances=final_model.feature_importances_\n",
    "indices=np.argsort(importances)"
   ]
  },
  {
   "cell_type": "code",
   "execution_count": 103,
   "metadata": {},
   "outputs": [],
   "source": [
    "plt.style.use('seaborn')"
   ]
  },
  {
   "cell_type": "code",
   "execution_count": 104,
   "metadata": {
    "scrolled": true
   },
   "outputs": [
    {
     "data": {
      "text/plain": [
       "['UniqueID',\n",
       " 'disbursed_amount',\n",
       " 'asset_cost',\n",
       " 'ltv',\n",
       " 'branch_id',\n",
       " 'supplier_id',\n",
       " 'manufacturer_id',\n",
       " 'Current_pincode_ID',\n",
       " 'Employment.Type',\n",
       " 'State_ID',\n",
       " 'Employee_code_ID',\n",
       " 'MobileNo_Avl_Flag',\n",
       " 'Aadhar_flag',\n",
       " 'PAN_flag',\n",
       " 'VoterID_flag',\n",
       " 'Driving_flag',\n",
       " 'Passport_flag',\n",
       " 'PERFORM_CNS.SCORE',\n",
       " 'PRI.NO.OF.ACCTS',\n",
       " 'PRI.ACTIVE.ACCTS',\n",
       " 'PRI.OVERDUE.ACCTS',\n",
       " 'PRI.CURRENT.BALANCE',\n",
       " 'PRI.SANCTIONED.AMOUNT',\n",
       " 'PRI.DISBURSED.AMOUNT',\n",
       " 'SEC.NO.OF.ACCTS',\n",
       " 'SEC.ACTIVE.ACCTS',\n",
       " 'SEC.OVERDUE.ACCTS',\n",
       " 'SEC.CURRENT.BALANCE',\n",
       " 'SEC.SANCTIONED.AMOUNT',\n",
       " 'SEC.DISBURSED.AMOUNT',\n",
       " 'PRIMARY.INSTAL.AMT',\n",
       " 'SEC.INSTAL.AMT',\n",
       " 'NEW.ACCTS.IN.LAST.SIX.MONTHS',\n",
       " 'DELINQUENT.ACCTS.IN.LAST.SIX.MONTHS',\n",
       " 'AVERAGE.ACCT.AGE',\n",
       " 'CREDIT.HISTORY.LENGTH',\n",
       " 'NO.OF_INQUIRIES',\n",
       " 'B-Very Low Risk',\n",
       " 'C-Very Low Risk',\n",
       " 'D-Very Low Risk',\n",
       " 'E-Low Risk',\n",
       " 'F-Low Risk',\n",
       " 'G-Low Risk',\n",
       " 'H-Medium Risk',\n",
       " 'I-Medium Risk',\n",
       " 'J-High Risk',\n",
       " 'K-High Risk',\n",
       " 'L-Very High Risk',\n",
       " 'M-Very High Risk',\n",
       " 'No Score/No History',\n",
       " 'Age_at_disbursal',\n",
       " 'Salaried_High_CNS',\n",
       " 'High_risk_High_loan',\n",
       " 'Total_Accounts',\n",
       " 'Too_many_accounts',\n",
       " 'ltv_risk',\n",
       " 'Total_Overdue_Accts',\n",
       " 'Voter_ID_Overdue_accts',\n",
       " 'Age_Deliquent',\n",
       " 'High_Overdue_Inquires']"
      ]
     },
     "execution_count": 104,
     "metadata": {},
     "output_type": "execute_result"
    }
   ],
   "source": [
    "cols=X_train.columns.tolist()\n",
    "cols"
   ]
  },
  {
   "cell_type": "code",
   "execution_count": 105,
   "metadata": {
    "scrolled": true
   },
   "outputs": [
    {
     "data": {
      "text/plain": [
       "([<matplotlib.axis.XTick at 0x7fb128ce0c10>,\n",
       "  <matplotlib.axis.XTick at 0x7fb128ce0be0>,\n",
       "  <matplotlib.axis.XTick at 0x7fb14a16e3a0>,\n",
       "  <matplotlib.axis.XTick at 0x7fb128756e80>,\n",
       "  <matplotlib.axis.XTick at 0x7fb1289a5250>,\n",
       "  <matplotlib.axis.XTick at 0x7fb1289a5730>,\n",
       "  <matplotlib.axis.XTick at 0x7fb1289a5c40>,\n",
       "  <matplotlib.axis.XTick at 0x7fb1289ad190>,\n",
       "  <matplotlib.axis.XTick at 0x7fb1289ad6a0>,\n",
       "  <matplotlib.axis.XTick at 0x7fb1289adbb0>,\n",
       "  <matplotlib.axis.XTick at 0x7fb1289b3100>,\n",
       "  <matplotlib.axis.XTick at 0x7fb1289b3610>,\n",
       "  <matplotlib.axis.XTick at 0x7fb1289b3b20>,\n",
       "  <matplotlib.axis.XTick at 0x7fb1289bd070>,\n",
       "  <matplotlib.axis.XTick at 0x7fb1289b36a0>,\n",
       "  <matplotlib.axis.XTick at 0x7fb1289ad730>,\n",
       "  <matplotlib.axis.XTick at 0x7fb1289a57c0>,\n",
       "  <matplotlib.axis.XTick at 0x7fb1289bd580>,\n",
       "  <matplotlib.axis.XTick at 0x7fb1289bda90>,\n",
       "  <matplotlib.axis.XTick at 0x7fb1289bdfa0>,\n",
       "  <matplotlib.axis.XTick at 0x7fb1289c74f0>,\n",
       "  <matplotlib.axis.XTick at 0x7fb1289c7a00>,\n",
       "  <matplotlib.axis.XTick at 0x7fb1289c7f10>,\n",
       "  <matplotlib.axis.XTick at 0x7fb1289cb460>,\n",
       "  <matplotlib.axis.XTick at 0x7fb1289c7700>,\n",
       "  <matplotlib.axis.XTick at 0x7fb1289bd790>,\n",
       "  <matplotlib.axis.XTick at 0x7fb1289b32e0>,\n",
       "  <matplotlib.axis.XTick at 0x7fb1289cb970>,\n",
       "  <matplotlib.axis.XTick at 0x7fb1289cbeb0>,\n",
       "  <matplotlib.axis.XTick at 0x7fb1289d9400>,\n",
       "  <matplotlib.axis.XTick at 0x7fb1289d9910>,\n",
       "  <matplotlib.axis.XTick at 0x7fb1289d9e20>,\n",
       "  <matplotlib.axis.XTick at 0x7fb128925370>,\n",
       "  <matplotlib.axis.XTick at 0x7fb128925880>,\n",
       "  <matplotlib.axis.XTick at 0x7fb1289d9970>,\n",
       "  <matplotlib.axis.XTick at 0x7fb1289cba90>,\n",
       "  <matplotlib.axis.XTick at 0x7fb1289c7550>,\n",
       "  <matplotlib.axis.XTick at 0x7fb128925dc0>,\n",
       "  <matplotlib.axis.XTick at 0x7fb128927310>,\n",
       "  <matplotlib.axis.XTick at 0x7fb128927820>,\n",
       "  <matplotlib.axis.XTick at 0x7fb128927d30>,\n",
       "  <matplotlib.axis.XTick at 0x7fb12892f280>,\n",
       "  <matplotlib.axis.XTick at 0x7fb12892f790>,\n",
       "  <matplotlib.axis.XTick at 0x7fb12892fca0>,\n",
       "  <matplotlib.axis.XTick at 0x7fb12892f3d0>,\n",
       "  <matplotlib.axis.XTick at 0x7fb128927460>,\n",
       "  <matplotlib.axis.XTick at 0x7fb128925e20>,\n",
       "  <matplotlib.axis.XTick at 0x7fb1289cb6d0>,\n",
       "  <matplotlib.axis.XTick at 0x7fb128938070>,\n",
       "  <matplotlib.axis.XTick at 0x7fb128938550>,\n",
       "  <matplotlib.axis.XTick at 0x7fb128938a60>,\n",
       "  <matplotlib.axis.XTick at 0x7fb128938f70>,\n",
       "  <matplotlib.axis.XTick at 0x7fb12893b4c0>,\n",
       "  <matplotlib.axis.XTick at 0x7fb12893b9d0>,\n",
       "  <matplotlib.axis.XTick at 0x7fb128938760>,\n",
       "  <matplotlib.axis.XTick at 0x7fb128925be0>,\n",
       "  <matplotlib.axis.XTick at 0x7fb12893bd30>,\n",
       "  <matplotlib.axis.XTick at 0x7fb12893bee0>,\n",
       "  <matplotlib.axis.XTick at 0x7fb128948430>,\n",
       "  <matplotlib.axis.XTick at 0x7fb128948940>],\n",
       " [Text(0, 0, 'UniqueID'),\n",
       "  Text(0, 0, 'NEW.ACCTS.IN.LAST.SIX.MONTHS'),\n",
       "  Text(0, 0, 'DELINQUENT.ACCTS.IN.LAST.SIX.MONTHS'),\n",
       "  Text(0, 0, 'AVERAGE.ACCT.AGE'),\n",
       "  Text(0, 0, 'CREDIT.HISTORY.LENGTH'),\n",
       "  Text(0, 0, 'NO.OF_INQUIRIES'),\n",
       "  Text(0, 0, 'B-Very Low Risk'),\n",
       "  Text(0, 0, 'C-Very Low Risk'),\n",
       "  Text(0, 0, 'D-Very Low Risk'),\n",
       "  Text(0, 0, 'E-Low Risk'),\n",
       "  Text(0, 0, 'F-Low Risk'),\n",
       "  Text(0, 0, 'G-Low Risk'),\n",
       "  Text(0, 0, 'H-Medium Risk'),\n",
       "  Text(0, 0, 'I-Medium Risk'),\n",
       "  Text(0, 0, 'J-High Risk'),\n",
       "  Text(0, 0, 'K-High Risk'),\n",
       "  Text(0, 0, 'L-Very High Risk'),\n",
       "  Text(0, 0, 'No Score/No History'),\n",
       "  Text(0, 0, 'Age_at_disbursal'),\n",
       "  Text(0, 0, 'Salaried_High_CNS'),\n",
       "  Text(0, 0, 'High_risk_High_loan'),\n",
       "  Text(0, 0, 'Total_Accounts'),\n",
       "  Text(0, 0, 'Too_many_accounts'),\n",
       "  Text(0, 0, 'ltv_risk'),\n",
       "  Text(0, 0, 'Total_Overdue_Accts'),\n",
       "  Text(0, 0, 'Voter_ID_Overdue_accts'),\n",
       "  Text(0, 0, 'SEC.INSTAL.AMT'),\n",
       "  Text(0, 0, 'PRIMARY.INSTAL.AMT'),\n",
       "  Text(0, 0, 'SEC.DISBURSED.AMOUNT'),\n",
       "  Text(0, 0, 'PAN_flag'),\n",
       "  Text(0, 0, 'disbursed_amount'),\n",
       "  Text(0, 0, 'asset_cost'),\n",
       "  Text(0, 0, 'ltv'),\n",
       "  Text(0, 0, 'branch_id'),\n",
       "  Text(0, 0, 'supplier_id'),\n",
       "  Text(0, 0, 'manufacturer_id'),\n",
       "  Text(0, 0, 'Current_pincode_ID'),\n",
       "  Text(0, 0, 'Employment.Type'),\n",
       "  Text(0, 0, 'State_ID'),\n",
       "  Text(0, 0, 'Employee_code_ID'),\n",
       "  Text(0, 0, 'MobileNo_Avl_Flag'),\n",
       "  Text(0, 0, 'Aadhar_flag'),\n",
       "  Text(0, 0, 'SEC.SANCTIONED.AMOUNT'),\n",
       "  Text(0, 0, 'High_Overdue_Inquires'),\n",
       "  Text(0, 0, 'Driving_flag'),\n",
       "  Text(0, 0, 'Passport_flag'),\n",
       "  Text(0, 0, 'PERFORM_CNS.SCORE'),\n",
       "  Text(0, 0, 'PRI.NO.OF.ACCTS'),\n",
       "  Text(0, 0, 'PRI.ACTIVE.ACCTS'),\n",
       "  Text(0, 0, 'PRI.OVERDUE.ACCTS'),\n",
       "  Text(0, 0, 'PRI.CURRENT.BALANCE'),\n",
       "  Text(0, 0, 'PRI.SANCTIONED.AMOUNT'),\n",
       "  Text(0, 0, 'SEC.NO.OF.ACCTS'),\n",
       "  Text(0, 0, 'SEC.ACTIVE.ACCTS'),\n",
       "  Text(0, 0, 'SEC.OVERDUE.ACCTS'),\n",
       "  Text(0, 0, 'SEC.CURRENT.BALANCE'),\n",
       "  Text(0, 0, 'VoterID_flag'),\n",
       "  Text(0, 0, 'M-Very High Risk'),\n",
       "  Text(0, 0, 'Age_Deliquent'),\n",
       "  Text(0, 0, 'PRI.DISBURSED.AMOUNT')])"
      ]
     },
     "execution_count": 105,
     "metadata": {},
     "output_type": "execute_result"
    },
    {
     "data": {
      "image/png": "[encoded data removed]",
      "text/plain": [
       "<Figure size 576x396 with 1 Axes>"
      ]
     },
     "metadata": {},
     "output_type": "display_data"
    }
   ],
   "source": [
    "plt.bar(range(len(indices)),importances[indices])\n",
    "plt.xticks(range(len(indices)),[cols[i] for i in indices],rotation=90)"
   ]
  },
  {
   "cell_type": "code",
   "execution_count": 106,
   "metadata": {},
   "outputs": [],
   "source": [
    "importances = list(zip(importances, X_train.columns))\n",
    "importances.sort(reverse=True)\n",
    "test=pd.DataFrame(importances, index=[x for (_,x) in importances])"
   ]
  },
  {
   "cell_type": "code",
   "execution_count": 107,
   "metadata": {},
   "outputs": [
    {
     "data": {
      "text/html": [
       "<div>\n",
       "<style scoped>\n",
       "    .dataframe tbody tr th:only-of-type {\n",
       "        vertical-align: middle;\n",
       "    }\n",
       "\n",
       "    .dataframe tbody tr th {\n",
       "        vertical-align: top;\n",
       "    }\n",
       "\n",
       "    .dataframe thead th {\n",
       "        text-align: right;\n",
       "    }\n",
       "</style>\n",
       "<table border=\"1\" class=\"dataframe\">\n",
       "  <thead>\n",
       "    <tr style=\"text-align: right;\">\n",
       "      <th></th>\n",
       "      <th>0</th>\n",
       "      <th>1</th>\n",
       "    </tr>\n",
       "  </thead>\n",
       "  <tbody>\n",
       "    <tr>\n",
       "      <th>PRI.DISBURSED.AMOUNT</th>\n",
       "      <td>0.477454</td>\n",
       "      <td>PRI.DISBURSED.AMOUNT</td>\n",
       "    </tr>\n",
       "    <tr>\n",
       "      <th>Age_Deliquent</th>\n",
       "      <td>0.380781</td>\n",
       "      <td>Age_Deliquent</td>\n",
       "    </tr>\n",
       "    <tr>\n",
       "      <th>M-Very High Risk</th>\n",
       "      <td>0.141765</td>\n",
       "      <td>M-Very High Risk</td>\n",
       "    </tr>\n",
       "    <tr>\n",
       "      <th>supplier_id</th>\n",
       "      <td>0.000000</td>\n",
       "      <td>supplier_id</td>\n",
       "    </tr>\n",
       "    <tr>\n",
       "      <th>manufacturer_id</th>\n",
       "      <td>0.000000</td>\n",
       "      <td>manufacturer_id</td>\n",
       "    </tr>\n",
       "  </tbody>\n",
       "</table>\n",
       "</div>"
      ],
      "text/plain": [
       "                             0                     1\n",
       "PRI.DISBURSED.AMOUNT  0.477454  PRI.DISBURSED.AMOUNT\n",
       "Age_Deliquent         0.380781         Age_Deliquent\n",
       "M-Very High Risk      0.141765      M-Very High Risk\n",
       "supplier_id           0.000000           supplier_id\n",
       "manufacturer_id       0.000000       manufacturer_id"
      ]
     },
     "execution_count": 107,
     "metadata": {},
     "output_type": "execute_result"
    }
   ],
   "source": [
    "test.head()"
   ]
  },
  {
   "cell_type": "code",
   "execution_count": 108,
   "metadata": {},
   "outputs": [
    {
     "data": {
      "text/plain": [
       "0.38078107960675944"
      ]
     },
     "execution_count": 108,
     "metadata": {},
     "output_type": "execute_result"
    }
   ],
   "source": [
    "test[0][1]"
   ]
  },
  {
   "cell_type": "code",
   "execution_count": 119,
   "metadata": {},
   "outputs": [
    {
     "data": {
      "text/plain": [
       "0.4774540532141458"
      ]
     },
     "execution_count": 119,
     "metadata": {},
     "output_type": "execute_result"
    }
   ],
   "source": [
    "test[0][0]"
   ]
  },
  {
   "cell_type": "code",
   "execution_count": 122,
   "metadata": {},
   "outputs": [
    {
     "data": {
      "text/plain": [
       "<matplotlib.axes._subplots.AxesSubplot at 0x7fb1203ec910>"
      ]
     },
     "execution_count": 122,
     "metadata": {},
     "output_type": "execute_result"
    },
    {
     "data": {
      "image/png": "[encoded data removed]",
      "text/plain": [
       "<Figure size 720x360 with 1 Axes>"
      ]
     },
     "metadata": {},
     "output_type": "display_data"
    }
   ],
   "source": [
    "fig,ax=plt.subplots(figsize=(10,5))\n",
    "ax.set_xlabel('Important Features',fontsize=13)\n",
    "ax.set_ylabel('Relative Feature Importance',fontsize=13)\n",
    "ax.set_title('Final Model\\'s Important Features',fontsize=13)\n",
    "sns.barplot(x=[test[1][0],test[1][1],test[1][2]],y=[test[0][0],test[0][1],test[0][2]],ax=ax)"
   ]
  },
  {
   "cell_type": "code",
   "execution_count": 123,
   "metadata": {},
   "outputs": [],
   "source": [
    "fig.savefig('Final_Model_Important_Features.png')"
   ]
  },
  {
   "cell_type": "code",
   "execution_count": 124,
   "metadata": {},
   "outputs": [
    {
     "data": {
      "text/plain": [
       "(202679, 63)"
      ]
     },
     "execution_count": 124,
     "metadata": {},
     "output_type": "execute_result"
    }
   ],
   "source": [
    "df.shape"
   ]
  },
  {
   "cell_type": "code",
   "execution_count": 132,
   "metadata": {},
   "outputs": [
    {
     "data": {
      "text/plain": [
       "Index(['UniqueID', 'disbursed_amount', 'asset_cost', 'ltv', 'branch_id',\n",
       "       'supplier_id', 'manufacturer_id', 'Current_pincode_ID', 'Date.of.Birth',\n",
       "       'Employment.Type', 'DisbursalDate', 'State_ID', 'Employee_code_ID',\n",
       "       'MobileNo_Avl_Flag', 'Aadhar_flag', 'PAN_flag', 'VoterID_flag',\n",
       "       'Driving_flag', 'Passport_flag', 'PERFORM_CNS.SCORE', 'PRI.NO.OF.ACCTS',\n",
       "       'PRI.ACTIVE.ACCTS', 'PRI.OVERDUE.ACCTS', 'PRI.CURRENT.BALANCE',\n",
       "       'PRI.SANCTIONED.AMOUNT', 'PRI.DISBURSED.AMOUNT', 'SEC.NO.OF.ACCTS',\n",
       "       'SEC.ACTIVE.ACCTS', 'SEC.OVERDUE.ACCTS', 'SEC.CURRENT.BALANCE',\n",
       "       'SEC.SANCTIONED.AMOUNT', 'SEC.DISBURSED.AMOUNT', 'PRIMARY.INSTAL.AMT',\n",
       "       'SEC.INSTAL.AMT', 'NEW.ACCTS.IN.LAST.SIX.MONTHS',\n",
       "       'DELINQUENT.ACCTS.IN.LAST.SIX.MONTHS', 'AVERAGE.ACCT.AGE',\n",
       "       'CREDIT.HISTORY.LENGTH', 'NO.OF_INQUIRIES', 'loan_default',\n",
       "       'B-Very Low Risk', 'C-Very Low Risk', 'D-Very Low Risk', 'E-Low Risk',\n",
       "       'F-Low Risk', 'G-Low Risk', 'H-Medium Risk', 'I-Medium Risk',\n",
       "       'J-High Risk', 'K-High Risk', 'L-Very High Risk', 'M-Very High Risk',\n",
       "       'No Score/No History', 'Age_at_disbursal', 'Salaried_High_CNS',\n",
       "       'High_risk_High_loan', 'Total_Accounts', 'Too_many_accounts',\n",
       "       'ltv_risk', 'Total_Overdue_Accts', 'Voter_ID_Overdue_accts',\n",
       "       'Age_Deliquent', 'High_Overdue_Inquires'],\n",
       "      dtype='object')"
      ]
     },
     "execution_count": 132,
     "metadata": {},
     "output_type": "execute_result"
    }
   ],
   "source": [
    "df.columns"
   ]
  },
  {
   "cell_type": "code",
   "execution_count": 126,
   "metadata": {},
   "outputs": [],
   "source": [
    "import pickle"
   ]
  },
  {
   "cell_type": "code",
   "execution_count": 127,
   "metadata": {},
   "outputs": [],
   "source": [
    "filename='final_model.sav'\n",
    "pickle.dump(final_model,open(filename,'wb'))"
   ]
  },
  {
   "cell_type": "code",
   "execution_count": 131,
   "metadata": {},
   "outputs": [
    {
     "data": {
      "text/plain": [
       "Index(['UniqueID', 'disbursed_amount', 'asset_cost', 'ltv', 'branch_id',\n",
       "       'supplier_id', 'manufacturer_id', 'Current_pincode_ID',\n",
       "       'Employment.Type', 'State_ID', 'Employee_code_ID', 'MobileNo_Avl_Flag',\n",
       "       'Aadhar_flag', 'PAN_flag', 'VoterID_flag', 'Driving_flag',\n",
       "       'Passport_flag', 'PERFORM_CNS.SCORE', 'PRI.NO.OF.ACCTS',\n",
       "       'PRI.ACTIVE.ACCTS', 'PRI.OVERDUE.ACCTS', 'PRI.CURRENT.BALANCE',\n",
       "       'PRI.SANCTIONED.AMOUNT', 'PRI.DISBURSED.AMOUNT', 'SEC.NO.OF.ACCTS',\n",
       "       'SEC.ACTIVE.ACCTS', 'SEC.OVERDUE.ACCTS', 'SEC.CURRENT.BALANCE',\n",
       "       'SEC.SANCTIONED.AMOUNT', 'SEC.DISBURSED.AMOUNT', 'PRIMARY.INSTAL.AMT',\n",
       "       'SEC.INSTAL.AMT', 'NEW.ACCTS.IN.LAST.SIX.MONTHS',\n",
       "       'DELINQUENT.ACCTS.IN.LAST.SIX.MONTHS', 'AVERAGE.ACCT.AGE',\n",
       "       'CREDIT.HISTORY.LENGTH', 'NO.OF_INQUIRIES', 'B-Very Low Risk',\n",
       "       'C-Very Low Risk', 'D-Very Low Risk', 'E-Low Risk', 'F-Low Risk',\n",
       "       'G-Low Risk', 'H-Medium Risk', 'I-Medium Risk', 'J-High Risk',\n",
       "       'K-High Risk', 'L-Very High Risk', 'M-Very High Risk',\n",
       "       'No Score/No History', 'Age_at_disbursal', 'Salaried_High_CNS',\n",
       "       'High_risk_High_loan', 'Total_Accounts', 'Too_many_accounts',\n",
       "       'ltv_risk', 'Total_Overdue_Accts', 'Voter_ID_Overdue_accts',\n",
       "       'Age_Deliquent', 'High_Overdue_Inquires'],\n",
       "      dtype='object')"
      ]
     },
     "execution_count": 131,
     "metadata": {},
     "output_type": "execute_result"
    }
   ],
   "source": [
    "X.columns"
   ]
  },
  {
   "cell_type": "code",
   "execution_count": null,
   "metadata": {},
   "outputs": [],
   "source": []
  }
 ],
 "metadata": {
  "kernelspec": {
   "display_name": "Python 3",
   "language": "python",
   "name": "python3"
  },
  "language_info": {
   "codemirror_mode": {
    "name": "ipython",
    "version": 3
   },
   "file_extension": ".py",
   "mimetype": "text/x-python",
   "name": "python",
   "nbconvert_exporter": "python",
   "pygments_lexer": "ipython3",
   "version": "3.8.3"
  }
 },
 "nbformat": 4,
 "nbformat_minor": 4
}
